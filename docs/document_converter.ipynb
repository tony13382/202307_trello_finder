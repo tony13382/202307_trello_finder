{
 "cells": [
  {
   "cell_type": "markdown",
   "metadata": {},
   "source": [
    "### 資料準備\n"
   ]
  },
  {
   "cell_type": "code",
   "execution_count": 1,
   "metadata": {},
   "outputs": [],
   "source": [
    "# 引入套件\n",
    "import pandas as pd"
   ]
  },
  {
   "cell_type": "code",
   "execution_count": null,
   "metadata": {},
   "outputs": [],
   "source": [
    "import openpyxl\n",
    "# ram_df = pd.read_excel(\"./docs/0926_new.xlsx\")"
   ]
  },
  {
   "cell_type": "code",
   "execution_count": 2,
   "metadata": {},
   "outputs": [],
   "source": [
    "# 讀取 json 檔案包含轉換向量\n",
    "df = pd.read_json(\"vector_all.json\")"
   ]
  },
  {
   "cell_type": "code",
   "execution_count": null,
   "metadata": {},
   "outputs": [],
   "source": [
    "df"
   ]
  },
  {
   "cell_type": "markdown",
   "metadata": {},
   "source": [
    "### 轉換成文字雲\n"
   ]
  },
  {
   "cell_type": "code",
   "execution_count": 4,
   "metadata": {},
   "outputs": [],
   "source": [
    "import matplotlib.pyplot as plt\n",
    "from wordcloud import WordCloud\n",
    "import jieba"
   ]
  },
  {
   "cell_type": "code",
   "execution_count": null,
   "metadata": {},
   "outputs": [],
   "source": [
    "# Generate a word cloud image\n",
    "chinese_font_path = \"jf-openhuninn-2.0.ttf\"\n",
    "\n",
    "\n",
    "def create_word_cloud(index, string):\n",
    "    wordcloud = WordCloud(\n",
    "        background_color=\"white\",\n",
    "        width=600,\n",
    "        height=400,\n",
    "        margin=2,\n",
    "        font_path=chinese_font_path,\n",
    "        prefer_horizontal=1,\n",
    "        colormap=\"Set2\",\n",
    "    ).generate(string)\n",
    "    plt.imshow(wordcloud, interpolation=\"bilinear\")\n",
    "    plt.axis(\"off\")\n",
    "    save_path = f\"images/{index}.png\"\n",
    "    plt.savefig(save_path, dpi=300, bbox_inches='tight')"
   ]
  },
  {
   "cell_type": "code",
   "execution_count": null,
   "metadata": {},
   "outputs": [],
   "source": [
    "df[\"jieba_cut\"] = df[\"content\"].apply(lambda x: \" \".join(jieba.cut(x)))"
   ]
  },
  {
   "cell_type": "code",
   "execution_count": null,
   "metadata": {},
   "outputs": [],
   "source": [
    "df.apply(lambda x: create_word_cloud(x.name, x[\"jieba_cut\"]), axis=1)"
   ]
  },
  {
   "cell_type": "code",
   "execution_count": 32,
   "metadata": {},
   "outputs": [],
   "source": [
    "for index, row in df.iterrows():\n",
    "    if (index < 705):\n",
    "        break\n",
    "    print(\"Running:\", index)\n",
    "    stringtext = row[\"jieba_cut\"]\n",
    "    wordcloud = WordCloud(\n",
    "        background_color=\"white\",\n",
    "        width=600,\n",
    "        height=400,\n",
    "        margin=2,\n",
    "        font_path=chinese_font_path,\n",
    "        prefer_horizontal=1,\n",
    "        colormap=\"Set2\",\n",
    "    ).generate(stringtext)\n",
    "    plt.imshow(wordcloud, interpolation='bilinear')\n",
    "    plt.axis(\"off\")\n",
    "    save_path = f\"images/{index}.png\"\n",
    "    plt.savefig(save_path, dpi=300, bbox_inches='tight')\n",
    "    # break"
   ]
  },
  {
   "cell_type": "code",
   "execution_count": null,
   "metadata": {},
   "outputs": [],
   "source": [
    "print(\"done\")"
   ]
  },
  {
   "cell_type": "markdown",
   "metadata": {},
   "source": [
    "---\n"
   ]
  },
  {
   "cell_type": "markdown",
   "metadata": {},
   "source": [
    "### Save Data\n"
   ]
  },
  {
   "cell_type": "code",
   "execution_count": 13,
   "metadata": {},
   "outputs": [],
   "source": [
    "from pymongo import MongoClient\n",
    "\n",
    "# 建立 MongoDB 連線\n",
    "client = MongoClient(\"mongodb://100.90.12.119:27017/\")\n",
    "db = client.nthu_trello_helper\n",
    "mongo_collection = db.article"
   ]
  },
  {
   "cell_type": "code",
   "execution_count": 5,
   "metadata": {},
   "outputs": [],
   "source": [
    "from pymilvus import DataType, FieldSchema, CollectionSchema, Collection, connections\n",
    "# 設定 Milvus 的連線資訊\n",
    "connections.connect(alias=\"default\")\n",
    "\n",
    "# 設定 Milvus collection 名稱和維度\n",
    "collection_name = 'trello_finder_tf'\n",
    "# 設定分區名稱\n",
    "partition_name = 'import'"
   ]
  },
  {
   "cell_type": "code",
   "execution_count": 6,
   "metadata": {},
   "outputs": [],
   "source": [
    "milvus_collection = Collection(collection_name)"
   ]
  },
  {
   "cell_type": "code",
   "execution_count": 7,
   "metadata": {},
   "outputs": [],
   "source": [
    "errorlist = []"
   ]
  },
  {
   "cell_type": "code",
   "execution_count": 20,
   "metadata": {},
   "outputs": [],
   "source": [
    "# 將資料存入 MongoDB\n",
    "for idx, row in df.iterrows():\n",
    "    try:\n",
    "        # 插入 MongoDB\n",
    "        mongo_collection.insert_one({\n",
    "            \"link_id\": str(idx),\n",
    "            \"title\": row[\"title\"],\n",
    "            \"url\": row[\"url\"],\n",
    "            \"content\": row[\"content\"],\n",
    "            \"importMilvus\": True,\n",
    "            \"values\": row[\"vector\"],\n",
    "            \"class\": row[\"class\"],\n",
    "            \"tag\": row[\"tag\"],\n",
    "            \"tf\": row[\"TF\"],\n",
    "        })\n",
    "\n",
    "    except Exception as exp:\n",
    "        print(\"MongoDB Insert Fail\")\n",
    "        print(exp)\n",
    "        errorlist.append(idx)"
   ]
  },
  {
   "cell_type": "code",
   "execution_count": 8,
   "metadata": {},
   "outputs": [
    {
     "name": "stderr",
     "output_type": "stream",
     "text": [
      "RPC error: [insert_rows], <ParamError: (code=1, message=Collection field dim is 768, but entities field dim is 38)>, <Time:{'RPC start': '2023-08-02 20:57:01.029217', 'RPC error': '2023-08-02 20:57:01.029217'}>\n"
     ]
    },
    {
     "name": "stdout",
     "output_type": "stream",
     "text": [
      "--------------------\n",
      "8370 | 4\n",
      "Vector | 768\n",
      "以假亂真，虛實難辨—虛擬實境 | 14\n",
      "--------------------\n",
      "Milvus Insert Fail\n",
      "<ParamError: (code=1, message=Collection field dim is 768, but entities field dim is 38)>\n"
     ]
    },
    {
     "name": "stderr",
     "output_type": "stream",
     "text": [
      "RPC error: [insert_rows], <ParamError: (code=1, message=Collection field dim is 768, but entities field dim is 38)>, <Time:{'RPC start': '2023-08-02 20:57:01.248869', 'RPC error': '2023-08-02 20:57:01.248869'}>\n"
     ]
    },
    {
     "name": "stdout",
     "output_type": "stream",
     "text": [
      "--------------------\n",
      "8432 | 4\n",
      "Vector | 768\n",
      "您所不知道的諾貝爾物理 | 11\n",
      "--------------------\n",
      "Milvus Insert Fail\n",
      "<ParamError: (code=1, message=Collection field dim is 768, but entities field dim is 38)>\n"
     ]
    },
    {
     "name": "stderr",
     "output_type": "stream",
     "text": [
      "RPC error: [insert_rows], <ParamError: (code=1, message=Collection field dim is 768, but entities field dim is 38)>, <Time:{'RPC start': '2023-08-02 20:57:01.750078', 'RPC error': '2023-08-02 20:57:01.750078'}>\n",
      "RPC error: [insert_rows], <ParamError: (code=1, message=Collection field dim is 768, but entities field dim is 38)>, <Time:{'RPC start': '2023-08-02 20:57:01.811520', 'RPC error': '2023-08-02 20:57:01.811520'}>\n",
      "RPC error: [insert_rows], <ParamError: (code=1, message=Collection field dim is 768, but entities field dim is 38)>, <Time:{'RPC start': '2023-08-02 20:57:01.812520', 'RPC error': '2023-08-02 20:57:01.812520'}>\n",
      "RPC error: [insert_rows], <ParamError: (code=1, message=Collection field dim is 768, but entities field dim is 38)>, <Time:{'RPC start': '2023-08-02 20:57:01.812520', 'RPC error': '2023-08-02 20:57:01.812520'}>\n",
      "RPC error: [insert_rows], <ParamError: (code=1, message=Collection field dim is 768, but entities field dim is 38)>, <Time:{'RPC start': '2023-08-02 20:57:01.813840', 'RPC error': '2023-08-02 20:57:01.813840'}>\n"
     ]
    },
    {
     "name": "stdout",
     "output_type": "stream",
     "text": [
      "--------------------\n",
      "8576 | 4\n",
      "Vector | 768\n",
      "看見微小世界（電子顯微鏡） | 13\n",
      "--------------------\n",
      "Milvus Insert Fail\n",
      "<ParamError: (code=1, message=Collection field dim is 768, but entities field dim is 38)>\n",
      "--------------------\n",
      "8591 | 4\n",
      "Vector | 768\n",
      "『一家一枚 』科學海報：量子光學 | 16\n",
      "--------------------\n",
      "Milvus Insert Fail\n",
      "<ParamError: (code=1, message=Collection field dim is 768, but entities field dim is 38)>\n",
      "--------------------\n",
      "8592 | 4\n",
      "Vector | 768\n",
      "什麼是暗物質與暗能量？ | 11\n",
      "--------------------\n",
      "Milvus Insert Fail\n",
      "<ParamError: (code=1, message=Collection field dim is 768, but entities field dim is 38)>\n",
      "--------------------\n",
      "8593 | 4\n",
      "Vector | 768\n",
      "1901-1966年諾貝爾物理獎揭秘檔案 | 20\n",
      "--------------------\n",
      "Milvus Insert Fail\n",
      "<ParamError: (code=1, message=Collection field dim is 768, but entities field dim is 38)>\n",
      "--------------------\n",
      "8594 | 4\n",
      "Vector | 768\n",
      "重力波大年表 | 6\n",
      "--------------------\n",
      "Milvus Insert Fail\n",
      "<ParamError: (code=1, message=Collection field dim is 768, but entities field dim is 38)>\n"
     ]
    },
    {
     "name": "stderr",
     "output_type": "stream",
     "text": [
      "RPC error: [insert_rows], <ParamError: (code=1, message=Collection field dim is 768, but entities field dim is 38)>, <Time:{'RPC start': '2023-08-02 20:57:02.054212', 'RPC error': '2023-08-02 20:57:02.054212'}>\n"
     ]
    },
    {
     "name": "stdout",
     "output_type": "stream",
     "text": [
      "--------------------\n",
      "8660 | 4\n",
      "Vector | 768\n",
      "科學女力：2018女物理人研討會紀實 | 18\n",
      "--------------------\n",
      "Milvus Insert Fail\n",
      "<ParamError: (code=1, message=Collection field dim is 768, but entities field dim is 38)>\n"
     ]
    }
   ],
   "source": [
    "# 將資料存入 Milvus\n",
    "for idx, row in df.iterrows():\n",
    "    try:\n",
    "\n",
    "        insert_milvus_title = row[\"title\"]\n",
    "        if (len(insert_milvus_title) > 500):\n",
    "            insert_milvus_title = insert_milvus_title[:497] + \"...\"\n",
    "\n",
    "        try:\n",
    "            # 插入 Milvus\n",
    "            status = milvus_collection.insert({\n",
    "                \"id\": str(idx),\n",
    "                \"track_id\": str(idx),\n",
    "                \"value\": row[\"vector_tf\"],\n",
    "                \"title\": insert_milvus_title,\n",
    "            }, partition_name=partition_name)\n",
    "\n",
    "            if (status.insert_count != 1):\n",
    "                print(\"Milvus Insert Fail\")\n",
    "                print(status)\n",
    "                errorlist.append(idx)\n",
    "            # else:\n",
    "                # print(\"Done \\n--------\")\n",
    "\n",
    "        except Exception as exp:\n",
    "            print(\"--------------------\")\n",
    "            print(str(idx), \"|\", len(str(idx)))\n",
    "            print(\"Vector |\", len(row[\"vector\"]))\n",
    "            print(insert_milvus_title, \"|\", len(insert_milvus_title))\n",
    "            print(\"--------------------\")\n",
    "            print(\"Milvus Insert Fail\")\n",
    "            print(exp)\n",
    "            errorlist.append(idx)\n",
    "\n",
    "    except Exception as exp:\n",
    "        print(\"MongoDB Insert Fail\")\n",
    "        print(exp)\n",
    "        errorlist.append(idx)"
   ]
  },
  {
   "cell_type": "code",
   "execution_count": null,
   "metadata": {},
   "outputs": [],
   "source": [
    "errorlist"
   ]
  },
  {
   "cell_type": "code",
   "execution_count": null,
   "metadata": {},
   "outputs": [],
   "source": [
    "for idx, row in df.iloc[errorlist].iterrows():\n",
    "    print(idx)\n",
    "    insert_milvus_title = row[\"title\"]\n",
    "    if (len(insert_milvus_title) > 75):\n",
    "        insert_milvus_title = insert_milvus_title[:71] + \"...\"\n",
    "    print(len(insert_milvus_title))\n",
    "    print(row[\"title\"])"
   ]
  },
  {
   "cell_type": "code",
   "execution_count": null,
   "metadata": {},
   "outputs": [],
   "source": [
    "expr = 'id in [\"21846\"]'\n",
    "milvus_collection.delete(expr)"
   ]
  },
  {
   "cell_type": "markdown",
   "metadata": {},
   "source": [
    "### TF 標籤輸出 (相似文字搜尋)\n"
   ]
  },
  {
   "cell_type": "code",
   "execution_count": 9,
   "metadata": {},
   "outputs": [],
   "source": [
    "def search_keyword(keyword):\n",
    "    # Replace NaN values with empty strings\n",
    "    df['TF'] = df['TF'].fillna('')\n",
    "    # Search for the keyword in the TF column\n",
    "    results = df[df['TF'].str.contains(keyword)]['TF'].tolist()\n",
    "\n",
    "    # Split the results into individual words and count their occurrences\n",
    "    word_counts = {}\n",
    "    for result in results:\n",
    "        words = result.split()\n",
    "        for word in words:\n",
    "            word_counts[word] = word_counts.get(word, 0) + 1\n",
    "\n",
    "    # Sort the words based on their occurrence count in descending order\n",
    "    sorted_words = sorted(word_counts.keys(),\n",
    "                          key=lambda x: word_counts[x], reverse=True)\n",
    "\n",
    "    # Return the top 6 words\n",
    "    if (len(sorted_words) > 6):\n",
    "        sorted_words = sorted_words[:6]\n",
    "    return sorted_words"
   ]
  },
  {
   "cell_type": "code",
   "execution_count": 10,
   "metadata": {},
   "outputs": [
    {
     "name": "stdout",
     "output_type": "stream",
     "text": [
      "['藍光', 'LED', '中村', '藍色', '氮化', '睡眠']\n"
     ]
    }
   ],
   "source": [
    "input_keyword = \"藍光\"\n",
    "output = search_keyword(input_keyword)\n",
    "print(output)"
   ]
  },
  {
   "cell_type": "code",
   "execution_count": 11,
   "metadata": {},
   "outputs": [],
   "source": [
    "def create_result_table(words_list):\n",
    "    # 定義一個空的表格\n",
    "    table_data = []\n",
    "    # 定義一個空的錯誤列表\n",
    "    errList = []\n",
    "    # 逐一取出文字列表中的文字\n",
    "    for word in words_list:\n",
    "        try:\n",
    "            # 將文字進行 search_keyword(文字) 並將結果存入 result\n",
    "            result = search_keyword(word)\n",
    "            # 將 word 和 result 存入表格中\n",
    "            table_data.append({\n",
    "                'word': word,\n",
    "                'simliar_word': result,\n",
    "            })\n",
    "        except:\n",
    "            # 如果有錯誤，將 word 存入錯誤列表中\n",
    "            errList.append(word)\n",
    "            continue\n",
    "\n",
    "    # 將表格和錯誤列表回傳\n",
    "    return {\n",
    "        \"data\": table_data,\n",
    "        \"errList\": errList,\n",
    "    }\n",
    "\n",
    "\n",
    "# 从 TF 列获取文字列表\n",
    "words_list = df['TF'].str.split().explode().unique().tolist()\n",
    "\n",
    "# 利用文字列表中的文字進行 search_keyword(文字) 并将结果输出成表格\n",
    "result_table = create_result_table(words_list)\n",
    "simliar_word_df = pd.DataFrame(result_table[\"data\"]).fillna(\"\")\n",
    "# 將 simliar_word 列中的列表轉成字串\n",
    "simliar_word_df[\"simliar_word_str\"] = simliar_word_df[\"simliar_word\"].apply(\n",
    "    lambda x: \" \".join(x))"
   ]
  },
  {
   "cell_type": "code",
   "execution_count": 15,
   "metadata": {},
   "outputs": [],
   "source": [
    "from pymongo import MongoClient\n",
    "\n",
    "# 建立 MongoDB 連線\n",
    "client = MongoClient(\"mongodb://100.90.12.119:27017/\")\n",
    "db = client.nthu_trello_helper\n",
    "mongo_collection = db.close_words"
   ]
  },
  {
   "cell_type": "code",
   "execution_count": 18,
   "metadata": {},
   "outputs": [],
   "source": [
    "for idx, row in simliar_word_df.iterrows():\n",
    "    # 插入 MongoDB\n",
    "    mongo_collection.insert_one({\n",
    "        \"key\": str(row['word']),\n",
    "        \"value\": row['simliar_word_str']\n",
    "    })"
   ]
  }
 ],
 "metadata": {
  "kernelspec": {
   "display_name": "liang_trello_finder",
   "language": "python",
   "name": "python3"
  },
  "language_info": {
   "codemirror_mode": {
    "name": "ipython",
    "version": 3
   },
   "file_extension": ".py",
   "mimetype": "text/x-python",
   "name": "python",
   "nbconvert_exporter": "python",
   "pygments_lexer": "ipython3",
   "version": "3.9.17"
  },
  "orig_nbformat": 4
 },
 "nbformat": 4,
 "nbformat_minor": 2
}
