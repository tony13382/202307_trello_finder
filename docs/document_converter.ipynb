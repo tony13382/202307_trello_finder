{
 "cells": [
  {
   "cell_type": "code",
   "execution_count": 1,
   "metadata": {},
   "outputs": [],
   "source": [
    "import pandas as pd\n",
    "import openpyxl\n",
    "# ram_df = pd.read_excel(\"./docs/0926_new.xlsx\")"
   ]
  },
  {
   "cell_type": "code",
   "execution_count": 2,
   "metadata": {},
   "outputs": [],
   "source": [
    "loaddf = pd.read_json(\"vector_all.json\")"
   ]
  },
  {
   "cell_type": "code",
   "execution_count": null,
   "metadata": {},
   "outputs": [],
   "source": [
    "loaddf"
   ]
  },
  {
   "cell_type": "code",
   "execution_count": 4,
   "metadata": {},
   "outputs": [],
   "source": [
    "import matplotlib.pyplot as plt\n",
    "from wordcloud import WordCloud\n",
    "import jieba"
   ]
  },
  {
   "cell_type": "code",
   "execution_count": null,
   "metadata": {},
   "outputs": [],
   "source": [
    "# Generate a word cloud image\n",
    "chinese_font_path = \"jf-openhuninn-2.0.ttf\"\n",
    "def create_word_cloud(index, string):\n",
    "    wordcloud = WordCloud(\n",
    "        background_color=\"white\",\n",
    "        width=600,\n",
    "        height=400,\n",
    "        margin=2,\n",
    "        font_path=chinese_font_path,\n",
    "        prefer_horizontal=1,\n",
    "        colormap=\"Set2\",\n",
    "    ).generate(string)\n",
    "    plt.imshow(wordcloud, interpolation=\"bilinear\")\n",
    "    plt.axis(\"off\")\n",
    "    save_path = f\"images/{index}.png\"\n",
    "    plt.savefig(save_path, dpi=300, bbox_inches='tight')"
   ]
  },
  {
   "cell_type": "code",
   "execution_count": null,
   "metadata": {},
   "outputs": [],
   "source": [
    "loaddf[\"jieba_cut\"] = loaddf[\"content\"].apply(lambda x: \" \".join(jieba.cut(x)))"
   ]
  },
  {
   "cell_type": "code",
   "execution_count": null,
   "metadata": {},
   "outputs": [],
   "source": [
    "loaddf.apply(lambda x: create_word_cloud(x.name, x[\"jieba_cut\"]), axis=1)"
   ]
  },
  {
   "cell_type": "code",
   "execution_count": 32,
   "metadata": {},
   "outputs": [],
   "source": [
    "for index, row in loaddf.iterrows():\n",
    "    if (index < 705):\n",
    "        break\n",
    "    print(\"Running:\", index)\n",
    "    stringtext = row[\"jieba_cut\"]\n",
    "    wordcloud = WordCloud(\n",
    "        background_color=\"white\",\n",
    "        width=600,\n",
    "        height=400,\n",
    "        margin=2,\n",
    "        font_path=chinese_font_path,\n",
    "        prefer_horizontal=1,\n",
    "        colormap=\"Set2\",\n",
    "    ).generate(stringtext)\n",
    "    plt.imshow(wordcloud, interpolation='bilinear')\n",
    "    plt.axis(\"off\")\n",
    "    save_path = f\"images/{index}.png\"\n",
    "    plt.savefig(save_path, dpi=300, bbox_inches='tight')\n",
    "    # break"
   ]
  },
  {
   "cell_type": "code",
   "execution_count": null,
   "metadata": {},
   "outputs": [],
   "source": [
    "print(\"done\")"
   ]
  },
  {
   "cell_type": "code",
   "execution_count": 5,
   "metadata": {},
   "outputs": [],
   "source": [
    "from pymongo import MongoClient\n",
    "\n",
    "# 建立 MongoDB 連線\n",
    "client = MongoClient(\"mongodb://100.90.12.119:27017/\")\n",
    "db = client.nthu_trello_helper\n",
    "mongo_collection = db.article"
   ]
  },
  {
   "cell_type": "markdown",
   "metadata": {},
   "source": [
    "---\n"
   ]
  },
  {
   "cell_type": "code",
   "execution_count": 16,
   "metadata": {},
   "outputs": [],
   "source": [
    "from pymilvus import DataType, FieldSchema, CollectionSchema, Collection, connections\n",
    "# 設定 Milvus 的連線資訊\n",
    "connections.connect(alias=\"default\")\n",
    "\n",
    "# 設定 Milvus collection 名稱和維度\n",
    "collection_name = 'trello_finder'\n",
    "# 設定分區名稱\n",
    "partition_name = 'import_v5'"
   ]
  },
  {
   "cell_type": "code",
   "execution_count": 17,
   "metadata": {},
   "outputs": [],
   "source": [
    "milvus_collection = Collection(collection_name)"
   ]
  },
  {
   "cell_type": "code",
   "execution_count": 19,
   "metadata": {},
   "outputs": [],
   "source": [
    "errorlist = []"
   ]
  },
  {
   "cell_type": "markdown",
   "metadata": {},
   "source": [
    "---\n",
    "\n",
    "# Save Data\n"
   ]
  },
  {
   "cell_type": "code",
   "execution_count": 20,
   "metadata": {},
   "outputs": [],
   "source": [
    "# 將資料存入 MongoDB\n",
    "for idx, row in df.iterrows():\n",
    "    try:\n",
    "        # 插入 MongoDB\n",
    "        mongo_collection.insert_one({\n",
    "            \"link_id\": str(idx),\n",
    "            \"title\": row[\"title\"],\n",
    "            \"url\": row[\"url\"],\n",
    "            \"content\": row[\"content\"],\n",
    "            \"importMilvus\": True,\n",
    "            \"values\": row[\"vector\"],\n",
    "            \"class\": row[\"class\"],\n",
    "            \"tag\": row[\"tag\"],\n",
    "            \"tf\": row[\"TF\"],\n",
    "        })\n",
    "\n",
    "    except Exception as exp:\n",
    "        print(\"MongoDB Insert Fail\")\n",
    "        print(exp)\n",
    "        errorlist.append(idx)"
   ]
  },
  {
   "cell_type": "code",
   "execution_count": 21,
   "metadata": {},
   "outputs": [],
   "source": [
    "# 將資料存入 Milvus\n",
    "for idx, row in df.iterrows():\n",
    "    try:\n",
    "\n",
    "        insert_milvus_title = row[\"title\"]\n",
    "        if (len(insert_milvus_title) > 500):\n",
    "            insert_milvus_title = insert_milvus_title[:497] + \"...\"\n",
    "\n",
    "        try:\n",
    "            # 插入 Milvus\n",
    "            status = milvus_collection.insert({\n",
    "                \"id\": str(idx),\n",
    "                \"track_id\": str(idx),\n",
    "                \"value\": row[\"vector\"],\n",
    "                \"title\": insert_milvus_title,\n",
    "            }, partition_name=partition_name)\n",
    "\n",
    "            if (status.insert_count != 1):\n",
    "                print(\"Milvus Insert Fail\")\n",
    "                print(status)\n",
    "                errorlist.append(idx)\n",
    "            # else:\n",
    "                # print(\"Done \\n--------\")\n",
    "\n",
    "        except Exception as exp:\n",
    "            print(\"--------------------\")\n",
    "            print(str(idx), \"|\", len(str(idx)))\n",
    "            print(\"Vector |\", len(row[\"vector\"]))\n",
    "            print(insert_milvus_title, \"|\", len(insert_milvus_title))\n",
    "            print(\"--------------------\")\n",
    "            print(\"Milvus Insert Fail\")\n",
    "            print(exp)\n",
    "            errorlist.append(idx)\n",
    "\n",
    "    except Exception as exp:\n",
    "        print(\"MongoDB Insert Fail\")\n",
    "        print(exp)\n",
    "        errorlist.append(idx)"
   ]
  },
  {
   "cell_type": "code",
   "execution_count": null,
   "metadata": {},
   "outputs": [],
   "source": [
    "errorlist"
   ]
  },
  {
   "cell_type": "code",
   "execution_count": null,
   "metadata": {},
   "outputs": [],
   "source": [
    "for idx, row in df.iloc[errorlist].iterrows():\n",
    "    print(idx)\n",
    "    insert_milvus_title = row[\"title\"]\n",
    "    if (len(insert_milvus_title) > 75):\n",
    "        insert_milvus_title = insert_milvus_title[:71] + \"...\"\n",
    "    print(len(insert_milvus_title))\n",
    "    print(row[\"title\"])"
   ]
  },
  {
   "cell_type": "markdown",
   "metadata": {},
   "source": [
    "---\n"
   ]
  },
  {
   "cell_type": "code",
   "execution_count": null,
   "metadata": {},
   "outputs": [],
   "source": [
    "expr = 'id in [\"21846\"]'\n",
    "milvus_collection.delete(expr)"
   ]
  }
 ],
 "metadata": {
  "kernelspec": {
   "display_name": "liang_trello_finder",
   "language": "python",
   "name": "python3"
  },
  "language_info": {
   "codemirror_mode": {
    "name": "ipython",
    "version": 3
   },
   "file_extension": ".py",
   "mimetype": "text/x-python",
   "name": "python",
   "nbconvert_exporter": "python",
   "pygments_lexer": "ipython3",
   "version": "3.9.17"
  },
  "orig_nbformat": 4
 },
 "nbformat": 4,
 "nbformat_minor": 2
}
