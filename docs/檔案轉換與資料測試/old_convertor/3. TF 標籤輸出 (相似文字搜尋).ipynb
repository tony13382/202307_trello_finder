{
 "cells": [
  {
   "cell_type": "code",
   "execution_count": 1,
   "metadata": {},
   "outputs": [],
   "source": [
    "# 引入套件\n",
    "import pandas as pd\n",
    "import numpy as np\n",
    "\n",
    "# 讀取 json 檔案包含轉換向量\n",
    "df = pd.read_json(\"../backup/vector_all.json\")"
   ]
  },
  {
   "cell_type": "code",
   "execution_count": null,
   "metadata": {},
   "outputs": [],
   "source": [
    "def search_keyword(keyword):\n",
    "    # Replace NaN values with empty strings\n",
    "    df['TF'] = df['TF'].fillna('')\n",
    "    # Search for the keyword in the TF column\n",
    "    results = df[df['TF'].str.contains(keyword)]['TF'].tolist()\n",
    "\n",
    "    # Split the results into individual words and count their occurrences\n",
    "    word_counts = {}\n",
    "    for result in results:\n",
    "        words = result.split()\n",
    "        for word in words:\n",
    "            word_counts[word] = word_counts.get(word, 0) + 1\n",
    "\n",
    "    # Sort the words based on their occurrence count in descending order\n",
    "    sorted_words = sorted(word_counts.keys(),\n",
    "                          key=lambda x: word_counts[x], reverse=True)\n",
    "\n",
    "    # Return the top 3 words\n",
    "    if (len(sorted_words) > 3):\n",
    "        sorted_words = sorted_words[:3]\n",
    "    return sorted_words"
   ]
  },
  {
   "cell_type": "code",
   "execution_count": null,
   "metadata": {},
   "outputs": [],
   "source": [
    "def create_result_table(words_list):\n",
    "    # 定義一個空的表格\n",
    "    table_data = []\n",
    "    # 定義一個空的錯誤列表\n",
    "    errList = []\n",
    "    # 逐一取出文字列表中的文字\n",
    "    for word in words_list:\n",
    "        try:\n",
    "            # 將文字進行 search_keyword(文字) 並將結果存入 result\n",
    "            result = search_keyword(word)\n",
    "            # 將 word 和 result 存入表格中\n",
    "            table_data.append({\n",
    "                'word': word,\n",
    "                'simliar_word': result,\n",
    "            })\n",
    "        except:\n",
    "            # 如果有錯誤，將 word 存入錯誤列表中\n",
    "            errList.append(word)\n",
    "            continue\n",
    "\n",
    "    # 將表格和錯誤列表回傳\n",
    "    return {\n",
    "        \"data\": table_data,\n",
    "        \"errList\": errList,\n",
    "    }\n",
    "\n",
    "\n",
    "# 从 TF 列获取文字列表\n",
    "words_list = df['TF'].str.split().explode().unique().tolist()\n",
    "\n",
    "# 利用文字列表中的文字進行 search_keyword(文字) 并将结果输出成表格\n",
    "result_table = create_result_table(words_list)\n",
    "simliar_word_df = pd.DataFrame(result_table[\"data\"]).fillna(\"\")\n",
    "# 將 simliar_word 列中的列表轉成字串\n",
    "simliar_word_df[\"simliar_word_str\"] = simliar_word_df[\"simliar_word\"].apply(\n",
    "    lambda x: \" \".join(x))"
   ]
  },
  {
   "cell_type": "code",
   "execution_count": null,
   "metadata": {},
   "outputs": [],
   "source": [
    "simliar_word_df"
   ]
  },
  {
   "cell_type": "code",
   "execution_count": null,
   "metadata": {},
   "outputs": [],
   "source": [
    "from pymongo import MongoClient\n",
    "\n",
    "# 建立 MongoDB 連線\n",
    "client = MongoClient(\"mongodb://100.90.12.119:27017/\")\n",
    "db = client.nthu_trello_helper\n",
    "mongo_collection = db.close_words"
   ]
  },
  {
   "cell_type": "code",
   "execution_count": null,
   "metadata": {},
   "outputs": [],
   "source": [
    "for idx, row in simliar_word_df.iterrows():\n",
    "    # 插入 MongoDB\n",
    "    mongo_collection.insert_one({\n",
    "        \"key\": str(row['word']),\n",
    "        \"value\": row['simliar_word_str']\n",
    "    })"
   ]
  },
  {
   "cell_type": "code",
   "execution_count": null,
   "metadata": {},
   "outputs": [],
   "source": [
    "mongo_collection.insert_one({\n",
    "    \"key\": \"虎克定律\",\n",
    "    \"value\": \"虎克定律 Hooke’s law 應力 應變 運動與力\"\n",
    "})"
   ]
  },
  {
   "cell_type": "code",
   "execution_count": null,
   "metadata": {},
   "outputs": [],
   "source": [
    "input_keyword = \"藍光\"\n",
    "output = search_keyword(input_keyword)\n",
    "print(output)"
   ]
  }
 ],
 "metadata": {
  "kernelspec": {
   "display_name": "liang_trello_finder",
   "language": "python",
   "name": "python3"
  },
  "language_info": {
   "codemirror_mode": {
    "name": "ipython",
    "version": 3
   },
   "file_extension": ".py",
   "mimetype": "text/x-python",
   "name": "python",
   "nbconvert_exporter": "python",
   "pygments_lexer": "ipython3",
   "version": "3.9.17"
  },
  "orig_nbformat": 4
 },
 "nbformat": 4,
 "nbformat_minor": 2
}
