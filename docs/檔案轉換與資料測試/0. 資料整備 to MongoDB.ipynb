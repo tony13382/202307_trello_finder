{
 "cells": [
  {
   "cell_type": "code",
   "execution_count": null,
   "metadata": {},
   "outputs": [],
   "source": [
    "# 引入套件\n",
    "import pandas as pd\n",
    "import openpyxl\n",
    "df = pd.read_excel(\"../文章原始資料/0926_new.xlsx\")"
   ]
  },
  {
   "cell_type": "code",
   "execution_count": null,
   "metadata": {},
   "outputs": [],
   "source": [
    "from pymongo import MongoClient\n",
    "\n",
    "# 建立 MongoDB 連線\n",
    "client = MongoClient(\"mongodb://100.90.12.119:27017/\")\n",
    "db = client.nthu_trello_helper\n",
    "mongo_collection = db.article"
   ]
  },
  {
   "cell_type": "code",
   "execution_count": null,
   "metadata": {},
   "outputs": [],
   "source": [
    "errorlist = []"
   ]
  },
  {
   "cell_type": "code",
   "execution_count": null,
   "metadata": {},
   "outputs": [],
   "source": [
    "# 將資料存入 MongoDB\n",
    "for idx, row in df.iterrows():\n",
    "    try:\n",
    "        # 插入 MongoDB\n",
    "        mongo_collection.insert_one({\n",
    "            \"link_id\": str(idx),\n",
    "            \"title\": row[\"title\"],\n",
    "            \"url\": row[\"url\"],\n",
    "            \"content\": row[\"content\"],\n",
    "            \"importMilvus\": True,\n",
    "            \"values\": row[\"vector\"],\n",
    "            \"class\": row[\"class\"],\n",
    "            \"tag\": row[\"tag\"],\n",
    "            \"tf\": row[\"TF\"],\n",
    "        })\n",
    "\n",
    "    except Exception as exp:\n",
    "        print(\"MongoDB Insert Fail\")\n",
    "        print(exp)\n",
    "        errorlist.append(idx)"
   ]
  },
  {
   "cell_type": "code",
   "execution_count": null,
   "metadata": {},
   "outputs": [],
   "source": [
    "errorlist"
   ]
  }
 ],
 "metadata": {
  "language_info": {
   "name": "python"
  },
  "orig_nbformat": 4
 },
 "nbformat": 4,
 "nbformat_minor": 2
}
