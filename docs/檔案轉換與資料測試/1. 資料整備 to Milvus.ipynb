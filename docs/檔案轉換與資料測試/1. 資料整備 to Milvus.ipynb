{
 "cells": [
  {
   "cell_type": "code",
   "execution_count": 2,
   "metadata": {},
   "outputs": [],
   "source": [
    "# +------------------------------+ #\n",
    "# 資料設定值\n",
    "weight_vector_title = 3\n",
    "weight_vector_content = 1\n",
    "weight_vector_tag = 2\n",
    "weight_vector_tf = 2\n",
    "# 設定 Milvus collection 名稱和維度\n",
    "collection_name = 'trello_finder_v2'\n",
    "# 設定分區名稱\n",
    "partition_name = 'import'\n",
    "# +------------------------------+ #"
   ]
  },
  {
   "cell_type": "code",
   "execution_count": 6,
   "metadata": {},
   "outputs": [],
   "source": [
    "# 引入套件\n",
    "import pandas as pd\n",
    "import numpy as np"
   ]
  },
  {
   "cell_type": "code",
   "execution_count": 9,
   "metadata": {},
   "outputs": [],
   "source": [
    "# 讀取 json 檔案包含轉換向量\n",
    "df = pd.read_json(\"../backup/vector_all.json\")"
   ]
  },
  {
   "cell_type": "code",
   "execution_count": null,
   "metadata": {},
   "outputs": [],
   "source": [
    "# Convert 'vector_content', 'vector_title', 'vector_tag', 'vector_tf' to NumPy ndarray\n",
    "def convert_to_np_array(lst):\n",
    "    # 檢查 lst 是否為 None 或為具有值的列表\n",
    "    if lst is None:\n",
    "        return np.zeros(768)\n",
    "    elif isinstance(lst, list):\n",
    "        return np.array(lst)\n",
    "    else:\n",
    "        return np.zeros(768)\n",
    "\n",
    "\n",
    "# 將 'vector_content' 轉換為 NumPy 的 ndarray，若為 None 則轉換為長度 768 的 0 陣列\n",
    "df[\"np_vector_content\"] = df[\"vector_content\"].apply(convert_to_np_array)\n",
    "\n",
    "# 將 'vector_title' 轉換為 NumPy 的 ndarray，若為 None 則轉換為長度 768 的 0 陣列\n",
    "df[\"np_vector_title\"] = df[\"vector_title\"].apply(convert_to_np_array)\n",
    "\n",
    "# 將 'vector_tag' 轉換為 NumPy 的 ndarray，若為 None 則轉換為長度 768 的 0 陣列\n",
    "df[\"np_vector_tag\"] = df[\"vector_tag\"].apply(convert_to_np_array)\n",
    "\n",
    "# 將 'vector_tf' 轉換為 NumPy 的 ndarray，若為 None 則轉換為長度 768 的 0 陣列\n",
    "df[\"np_vector_tf\"] = df[\"vector_tf\"].apply(convert_to_np_array)"
   ]
  },
  {
   "cell_type": "code",
   "execution_count": null,
   "metadata": {},
   "outputs": [],
   "source": [
    "df"
   ]
  },
  {
   "cell_type": "code",
   "execution_count": 2,
   "metadata": {},
   "outputs": [],
   "source": [
    "#####################\n",
    "# Request Variables\n",
    "# -------------------\n",
    "# set : list of dict\n",
    "#   - weight : float\n",
    "#   - array : np.array\n",
    "# len_array : int (length of array)\n",
    "#####################\n",
    "def calc_array_mean(set, len_array):\n",
    "    # Define weight that need to sum\n",
    "    sum_weight = 0\n",
    "    # Define sum_array to sum all array\n",
    "    sum_array = np.zeros(len_array)\n",
    "    for item in set:\n",
    "        # Check Array is empty\n",
    "        if item[\"array\"].sum() == 0:\n",
    "            # No calculate this weight\n",
    "            sum_weight += 0\n",
    "        else:\n",
    "            # Calculate this weight\n",
    "            sum_weight += item['weight']\n",
    "            # Add to sum_array\n",
    "            sum_array += item['array'] * item['weight']\n",
    "\n",
    "    return sum_array / sum_weight"
   ]
  },
  {
   "cell_type": "code",
   "execution_count": 33,
   "metadata": {},
   "outputs": [],
   "source": [
    "def search_array(arr_title, arr_content, arr_tag, arr_tf):\n",
    "    return calc_array_mean(\n",
    "        set=[{\n",
    "            \"weight\": weight_vector_title,\n",
    "            \"array\": arr_title,\n",
    "        }, {\n",
    "            \"weight\": weight_vector_content,\n",
    "            \"array\": arr_content,\n",
    "        }, {\n",
    "            \"weight\": weight_vector_tag,\n",
    "            \"array\": arr_tag,\n",
    "        }, {\n",
    "            \"weight\": weight_vector_tf,\n",
    "            \"array\": arr_tf,\n",
    "        }],\n",
    "        len_array=768\n",
    "    )\n",
    "\n",
    "\n",
    "# Create a new column \"vector_search\" with default value None\n",
    "df['vector_search'] = None\n",
    "\n",
    "# Define a function to apply the search_array function to each row\n",
    "\n",
    "\n",
    "def apply_search_array(row):\n",
    "    # return search_array(row['np_vector_title'], row['np_vector_content'], row['np_vector_tag'], row['np_vector_tf'])\n",
    "    return search_array(row['vector_title'], row['vector_content'], row['vector_tag'], row['vector_tf'])\n",
    "\n",
    "\n",
    "# Apply the function to each row and update the \"vector_search\" column\n",
    "df['vector_search'] = df.apply(apply_search_array, axis=1)"
   ]
  },
  {
   "cell_type": "code",
   "execution_count": 3,
   "metadata": {},
   "outputs": [],
   "source": [
    "from pymilvus import DataType, FieldSchema, CollectionSchema, Collection, connections\n",
    "# 設定 Milvus 的連線資訊\n",
    "connections.connect(alias=\"default\")\n",
    "milvus_collection = Collection(collection_name)"
   ]
  },
  {
   "cell_type": "code",
   "execution_count": 4,
   "metadata": {},
   "outputs": [],
   "source": [
    "errorlist = []"
   ]
  },
  {
   "cell_type": "code",
   "execution_count": null,
   "metadata": {},
   "outputs": [],
   "source": [
    "# 將資料存入 Milvus\n",
    "for idx, row in df.iterrows():\n",
    "    try:\n",
    "\n",
    "        insert_milvus_title = row[\"title\"]\n",
    "        if (len(insert_milvus_title) > 500):\n",
    "            insert_milvus_title = insert_milvus_title[:497] + \"...\"\n",
    "\n",
    "        try:\n",
    "            # 插入 Milvus\n",
    "            status = milvus_collection.insert({\n",
    "                \"id\": str(idx),\n",
    "                \"track_id\": str(idx),\n",
    "                \"value\": row[\"vector_search\"],\n",
    "                \"title\": insert_milvus_title,\n",
    "            }, partition_name=partition_name)\n",
    "\n",
    "            if (status.insert_count != 1):\n",
    "                print(\"Milvus Insert Fail\")\n",
    "                print(status)\n",
    "                errorlist.append(idx)\n",
    "            # else:\n",
    "                # print(\"Done \\n--------\")\n",
    "\n",
    "        except Exception as exp:\n",
    "            print(\"--------------------\")\n",
    "            print(str(idx), \"|\", len(str(idx)))\n",
    "            print(\"Vector |\", len(row[\"vector\"]))\n",
    "            print(insert_milvus_title, \"|\", len(insert_milvus_title))\n",
    "            print(\"--------------------\")\n",
    "            print(\"Milvus Insert Fail\")\n",
    "            print(exp)\n",
    "            errorlist.append(idx)\n",
    "\n",
    "    except Exception as exp:\n",
    "        print(\"Milvus Insert Fail\")\n",
    "        print(exp)\n",
    "        errorlist.append(idx)"
   ]
  },
  {
   "cell_type": "code",
   "execution_count": null,
   "metadata": {},
   "outputs": [],
   "source": [
    "errorlist"
   ]
  },
  {
   "cell_type": "markdown",
   "metadata": {},
   "source": [
    "---\n"
   ]
  },
  {
   "cell_type": "code",
   "execution_count": null,
   "metadata": {},
   "outputs": [],
   "source": [
    "for idx, row in df.iloc[errorlist].iterrows():\n",
    "    print(idx)\n",
    "    insert_milvus_title = row[\"title\"]\n",
    "    if (len(insert_milvus_title) > 75):\n",
    "        insert_milvus_title = insert_milvus_title[:71] + \"...\"\n",
    "    print(len(insert_milvus_title))\n",
    "    print(row[\"title\"])"
   ]
  },
  {
   "cell_type": "code",
   "execution_count": null,
   "metadata": {},
   "outputs": [],
   "source": [
    "expr = 'id in [\"21846\",\"8591\"]'\n",
    "milvus_collection.delete(expr)"
   ]
  },
  {
   "cell_type": "code",
   "execution_count": 5,
   "metadata": {},
   "outputs": [
    {
     "data": {
      "text/plain": [
       "(insert count: 0, delete count: 1, upsert count: 0, timestamp: 443367844300718081, success count: 0, err count: 0)"
      ]
     },
     "execution_count": 5,
     "metadata": {},
     "output_type": "execute_result"
    }
   ],
   "source": [
    "expr = 'id in [\"8370\"]'\n",
    "milvus_collection.delete(expr)"
   ]
  },
  {
   "cell_type": "markdown",
   "metadata": {},
   "source": [
    "---\n"
   ]
  },
  {
   "cell_type": "code",
   "execution_count": 28,
   "metadata": {},
   "outputs": [],
   "source": [
    "# 建立空的 DataFrame\n",
    "df = pd.DataFrame(index=[0], columns=['vector_content',\n",
    "                  'vector_title', 'vector_tag', 'vector_tf'])\n",
    "vector_length = 768\n",
    "df.at[0, 'vector_content'] = np.full(vector_length, 3)\n",
    "df.at[0, 'vector_title'] = np.full(vector_length, 2)\n",
    "df.at[0, 'vector_tag'] = np.full(vector_length, 1)\n",
    "df.at[0, 'vector_tf'] = np.zeros(vector_length)"
   ]
  },
  {
   "cell_type": "code",
   "execution_count": 34,
   "metadata": {},
   "outputs": [
    {
     "data": {
      "text/html": [
       "<div>\n",
       "<style scoped>\n",
       "    .dataframe tbody tr th:only-of-type {\n",
       "        vertical-align: middle;\n",
       "    }\n",
       "\n",
       "    .dataframe tbody tr th {\n",
       "        vertical-align: top;\n",
       "    }\n",
       "\n",
       "    .dataframe thead th {\n",
       "        text-align: right;\n",
       "    }\n",
       "</style>\n",
       "<table border=\"1\" class=\"dataframe\">\n",
       "  <thead>\n",
       "    <tr style=\"text-align: right;\">\n",
       "      <th></th>\n",
       "      <th>vector_content</th>\n",
       "      <th>vector_title</th>\n",
       "      <th>vector_tag</th>\n",
       "      <th>vector_tf</th>\n",
       "      <th>vector_search</th>\n",
       "    </tr>\n",
       "  </thead>\n",
       "  <tbody>\n",
       "    <tr>\n",
       "      <th>0</th>\n",
       "      <td>[3, 3, 3, 3, 3, 3, 3, 3, 3, 3, 3, 3, 3, 3, 3, ...</td>\n",
       "      <td>[2, 2, 2, 2, 2, 2, 2, 2, 2, 2, 2, 2, 2, 2, 2, ...</td>\n",
       "      <td>[1, 1, 1, 1, 1, 1, 1, 1, 1, 1, 1, 1, 1, 1, 1, ...</td>\n",
       "      <td>[0.0, 0.0, 0.0, 0.0, 0.0, 0.0, 0.0, 0.0, 0.0, ...</td>\n",
       "      <td>[1.8333333333333333, 1.8333333333333333, 1.833...</td>\n",
       "    </tr>\n",
       "  </tbody>\n",
       "</table>\n",
       "</div>"
      ],
      "text/plain": [
       "                                      vector_content  \\\n",
       "0  [3, 3, 3, 3, 3, 3, 3, 3, 3, 3, 3, 3, 3, 3, 3, ...   \n",
       "\n",
       "                                        vector_title  \\\n",
       "0  [2, 2, 2, 2, 2, 2, 2, 2, 2, 2, 2, 2, 2, 2, 2, ...   \n",
       "\n",
       "                                          vector_tag  \\\n",
       "0  [1, 1, 1, 1, 1, 1, 1, 1, 1, 1, 1, 1, 1, 1, 1, ...   \n",
       "\n",
       "                                           vector_tf  \\\n",
       "0  [0.0, 0.0, 0.0, 0.0, 0.0, 0.0, 0.0, 0.0, 0.0, ...   \n",
       "\n",
       "                                       vector_search  \n",
       "0  [1.8333333333333333, 1.8333333333333333, 1.833...  "
      ]
     },
     "execution_count": 34,
     "metadata": {},
     "output_type": "execute_result"
    }
   ],
   "source": [
    "df"
   ]
  },
  {
   "cell_type": "code",
   "execution_count": 9,
   "metadata": {},
   "outputs": [],
   "source": [
    "# Import modules of Milvus\n",
    "from pymilvus import connections, Collection, utility\n",
    "# Setup environment value\n",
    "import os\n",
    "from dotenv import load_dotenv\n",
    "load_dotenv()\n",
    "milvus_path = os.getenv(\"milvus_path\")\n",
    "milvus_port = os.getenv(\"milvus_port\")\n",
    "milvus_db_name = os.getenv(\"milvus_db_name\")\n",
    "article_vector_index_type = os.getenv(\"article_vector_index_type\")\n",
    "article_vector_metric_type = os.getenv(\"article_vector_metric_type\")\n",
    "\n",
    "\n",
    "# Connect to milvus server (connector)\n",
    "conn = connections.connect(\n",
    "    alias=\"default\",\n",
    "    host=milvus_path,\n",
    "    port=milvus_port,\n",
    "    db_name=milvus_db_name\n",
    ")\n",
    "\n",
    "# 設定 Milvus collection 名稱\n",
    "\n",
    "# 建立 collection\n",
    "collection = Collection(\"trello_finder_keyword\")"
   ]
  },
  {
   "cell_type": "code",
   "execution_count": 10,
   "metadata": {},
   "outputs": [],
   "source": [
    "errorlist = []"
   ]
  },
  {
   "cell_type": "code",
   "execution_count": 16,
   "metadata": {},
   "outputs": [],
   "source": [
    "import pandas as pd\n",
    "df = pd.read_json(\"../backup/5. TF 字典（含向量）.json\")"
   ]
  },
  {
   "cell_type": "code",
   "execution_count": 17,
   "metadata": {},
   "outputs": [
    {
     "data": {
      "text/html": [
       "<div>\n",
       "<style scoped>\n",
       "    .dataframe tbody tr th:only-of-type {\n",
       "        vertical-align: middle;\n",
       "    }\n",
       "\n",
       "    .dataframe tbody tr th {\n",
       "        vertical-align: top;\n",
       "    }\n",
       "\n",
       "    .dataframe thead th {\n",
       "        text-align: right;\n",
       "    }\n",
       "</style>\n",
       "<table border=\"1\" class=\"dataframe\">\n",
       "  <thead>\n",
       "    <tr style=\"text-align: right;\">\n",
       "      <th></th>\n",
       "      <th>word</th>\n",
       "      <th>word_id</th>\n",
       "      <th>vector</th>\n",
       "    </tr>\n",
       "  </thead>\n",
       "  <tbody>\n",
       "    <tr>\n",
       "      <th>0</th>\n",
       "      <td>方法</td>\n",
       "      <td>0</td>\n",
       "      <td>[-0.018200440300000002, -0.0207575597, -0.0205...</td>\n",
       "    </tr>\n",
       "    <tr>\n",
       "      <th>1</th>\n",
       "      <td>因果</td>\n",
       "      <td>1</td>\n",
       "      <td>[-0.0245203413, 0.047072701200000004, -0.02090...</td>\n",
       "    </tr>\n",
       "    <tr>\n",
       "      <th>2</th>\n",
       "      <td>關係</td>\n",
       "      <td>2</td>\n",
       "      <td>[0.0035511809, 0.1148635149, -0.0184334479, 0....</td>\n",
       "    </tr>\n",
       "    <tr>\n",
       "      <th>3</th>\n",
       "      <td>資料</td>\n",
       "      <td>3</td>\n",
       "      <td>[-0.1050320342, 0.10554046930000001, -0.018963...</td>\n",
       "    </tr>\n",
       "    <tr>\n",
       "      <th>4</th>\n",
       "      <td>AI</td>\n",
       "      <td>4</td>\n",
       "      <td>[-0.1786929816, 0.10562170300000001, -0.010878...</td>\n",
       "    </tr>\n",
       "    <tr>\n",
       "      <th>...</th>\n",
       "      <td>...</td>\n",
       "      <td>...</td>\n",
       "      <td>...</td>\n",
       "    </tr>\n",
       "    <tr>\n",
       "      <th>1595823</th>\n",
       "      <td>黨團</td>\n",
       "      <td>1595823</td>\n",
       "      <td>[-0.0738442689, 0.0248856582, -0.0183375981, 0...</td>\n",
       "    </tr>\n",
       "    <tr>\n",
       "      <th>1595831</th>\n",
       "      <td>備而不用</td>\n",
       "      <td>1595831</td>\n",
       "      <td>[0.025757161900000002, 0.1049960852, -0.021495...</td>\n",
       "    </tr>\n",
       "    <tr>\n",
       "      <th>1595850</th>\n",
       "      <td>格架</td>\n",
       "      <td>1595850</td>\n",
       "      <td>[-0.0103145884, 0.0129827634, -0.0215662960000...</td>\n",
       "    </tr>\n",
       "    <tr>\n",
       "      <th>1595881</th>\n",
       "      <td>Goods</td>\n",
       "      <td>1595881</td>\n",
       "      <td>[0.0315635279, 0.034908812500000004, -0.012700...</td>\n",
       "    </tr>\n",
       "    <tr>\n",
       "      <th>1595894</th>\n",
       "      <td>下殺</td>\n",
       "      <td>1595894</td>\n",
       "      <td>[0.0422893353, 0.0544964001, -0.0201802589, -0...</td>\n",
       "    </tr>\n",
       "  </tbody>\n",
       "</table>\n",
       "<p>101525 rows × 3 columns</p>\n",
       "</div>"
      ],
      "text/plain": [
       "          word  word_id                                             vector\n",
       "0           方法        0  [-0.018200440300000002, -0.0207575597, -0.0205...\n",
       "1           因果        1  [-0.0245203413, 0.047072701200000004, -0.02090...\n",
       "2           關係        2  [0.0035511809, 0.1148635149, -0.0184334479, 0....\n",
       "3           資料        3  [-0.1050320342, 0.10554046930000001, -0.018963...\n",
       "4           AI        4  [-0.1786929816, 0.10562170300000001, -0.010878...\n",
       "...        ...      ...                                                ...\n",
       "1595823     黨團  1595823  [-0.0738442689, 0.0248856582, -0.0183375981, 0...\n",
       "1595831   備而不用  1595831  [0.025757161900000002, 0.1049960852, -0.021495...\n",
       "1595850     格架  1595850  [-0.0103145884, 0.0129827634, -0.0215662960000...\n",
       "1595881  Goods  1595881  [0.0315635279, 0.034908812500000004, -0.012700...\n",
       "1595894     下殺  1595894  [0.0422893353, 0.0544964001, -0.0201802589, -0...\n",
       "\n",
       "[101525 rows x 3 columns]"
      ]
     },
     "execution_count": 17,
     "metadata": {},
     "output_type": "execute_result"
    }
   ],
   "source": [
    "df"
   ]
  },
  {
   "cell_type": "code",
   "execution_count": 20,
   "metadata": {},
   "outputs": [
    {
     "data": {
      "text/plain": [
       "101525"
      ]
     },
     "execution_count": 20,
     "metadata": {},
     "output_type": "execute_result"
    }
   ],
   "source": [
    "len(df)"
   ]
  },
  {
   "cell_type": "code",
   "execution_count": 26,
   "metadata": {},
   "outputs": [],
   "source": [
    "def uploadToMilvus(index, vector, word):\n",
    "    status = collection.insert({\n",
    "        \"keyword_id\": str(index),\n",
    "        \"link_id\": str(index),\n",
    "        \"vector\": vector,\n",
    "        \"preview_str\": word,\n",
    "    }, partition_name=\"V3\")\n",
    "\n",
    "    if (status.insert_count != 1):\n",
    "        print(\"Insert failed!\")\n",
    "        return False\n",
    "    else:\n",
    "        return True"
   ]
  },
  {
   "cell_type": "code",
   "execution_count": 27,
   "metadata": {},
   "outputs": [],
   "source": [
    "df[\"milvusUpload\"] = df.apply(lambda row: uploadToMilvus(row[\"word_id\"], row[\"vector\"],row[\"word\"]), axis=1 )"
   ]
  },
  {
   "cell_type": "code",
   "execution_count": 31,
   "metadata": {},
   "outputs": [
    {
     "data": {
      "text/html": [
       "<div>\n",
       "<style scoped>\n",
       "    .dataframe tbody tr th:only-of-type {\n",
       "        vertical-align: middle;\n",
       "    }\n",
       "\n",
       "    .dataframe tbody tr th {\n",
       "        vertical-align: top;\n",
       "    }\n",
       "\n",
       "    .dataframe thead th {\n",
       "        text-align: right;\n",
       "    }\n",
       "</style>\n",
       "<table border=\"1\" class=\"dataframe\">\n",
       "  <thead>\n",
       "    <tr style=\"text-align: right;\">\n",
       "      <th></th>\n",
       "      <th>word</th>\n",
       "      <th>word_id</th>\n",
       "      <th>vector</th>\n",
       "      <th>milvusUpload</th>\n",
       "    </tr>\n",
       "  </thead>\n",
       "  <tbody>\n",
       "    <tr>\n",
       "      <th>0</th>\n",
       "      <td>方法</td>\n",
       "      <td>0</td>\n",
       "      <td>[-0.018200440300000002, -0.0207575597, -0.0205...</td>\n",
       "      <td>True</td>\n",
       "    </tr>\n",
       "    <tr>\n",
       "      <th>1</th>\n",
       "      <td>因果</td>\n",
       "      <td>1</td>\n",
       "      <td>[-0.0245203413, 0.047072701200000004, -0.02090...</td>\n",
       "      <td>True</td>\n",
       "    </tr>\n",
       "    <tr>\n",
       "      <th>2</th>\n",
       "      <td>關係</td>\n",
       "      <td>2</td>\n",
       "      <td>[0.0035511809, 0.1148635149, -0.0184334479, 0....</td>\n",
       "      <td>True</td>\n",
       "    </tr>\n",
       "    <tr>\n",
       "      <th>3</th>\n",
       "      <td>資料</td>\n",
       "      <td>3</td>\n",
       "      <td>[-0.1050320342, 0.10554046930000001, -0.018963...</td>\n",
       "      <td>True</td>\n",
       "    </tr>\n",
       "    <tr>\n",
       "      <th>4</th>\n",
       "      <td>AI</td>\n",
       "      <td>4</td>\n",
       "      <td>[-0.1786929816, 0.10562170300000001, -0.010878...</td>\n",
       "      <td>True</td>\n",
       "    </tr>\n",
       "    <tr>\n",
       "      <th>...</th>\n",
       "      <td>...</td>\n",
       "      <td>...</td>\n",
       "      <td>...</td>\n",
       "      <td>...</td>\n",
       "    </tr>\n",
       "    <tr>\n",
       "      <th>1595823</th>\n",
       "      <td>黨團</td>\n",
       "      <td>1595823</td>\n",
       "      <td>[-0.0738442689, 0.0248856582, -0.0183375981, 0...</td>\n",
       "      <td>True</td>\n",
       "    </tr>\n",
       "    <tr>\n",
       "      <th>1595831</th>\n",
       "      <td>備而不用</td>\n",
       "      <td>1595831</td>\n",
       "      <td>[0.025757161900000002, 0.1049960852, -0.021495...</td>\n",
       "      <td>True</td>\n",
       "    </tr>\n",
       "    <tr>\n",
       "      <th>1595850</th>\n",
       "      <td>格架</td>\n",
       "      <td>1595850</td>\n",
       "      <td>[-0.0103145884, 0.0129827634, -0.0215662960000...</td>\n",
       "      <td>True</td>\n",
       "    </tr>\n",
       "    <tr>\n",
       "      <th>1595881</th>\n",
       "      <td>Goods</td>\n",
       "      <td>1595881</td>\n",
       "      <td>[0.0315635279, 0.034908812500000004, -0.012700...</td>\n",
       "      <td>True</td>\n",
       "    </tr>\n",
       "    <tr>\n",
       "      <th>1595894</th>\n",
       "      <td>下殺</td>\n",
       "      <td>1595894</td>\n",
       "      <td>[0.0422893353, 0.0544964001, -0.0201802589, -0...</td>\n",
       "      <td>True</td>\n",
       "    </tr>\n",
       "  </tbody>\n",
       "</table>\n",
       "<p>101525 rows × 4 columns</p>\n",
       "</div>"
      ],
      "text/plain": [
       "          word  word_id                                             vector  \\\n",
       "0           方法        0  [-0.018200440300000002, -0.0207575597, -0.0205...   \n",
       "1           因果        1  [-0.0245203413, 0.047072701200000004, -0.02090...   \n",
       "2           關係        2  [0.0035511809, 0.1148635149, -0.0184334479, 0....   \n",
       "3           資料        3  [-0.1050320342, 0.10554046930000001, -0.018963...   \n",
       "4           AI        4  [-0.1786929816, 0.10562170300000001, -0.010878...   \n",
       "...        ...      ...                                                ...   \n",
       "1595823     黨團  1595823  [-0.0738442689, 0.0248856582, -0.0183375981, 0...   \n",
       "1595831   備而不用  1595831  [0.025757161900000002, 0.1049960852, -0.021495...   \n",
       "1595850     格架  1595850  [-0.0103145884, 0.0129827634, -0.0215662960000...   \n",
       "1595881  Goods  1595881  [0.0315635279, 0.034908812500000004, -0.012700...   \n",
       "1595894     下殺  1595894  [0.0422893353, 0.0544964001, -0.0201802589, -0...   \n",
       "\n",
       "         milvusUpload  \n",
       "0                True  \n",
       "1                True  \n",
       "2                True  \n",
       "3                True  \n",
       "4                True  \n",
       "...               ...  \n",
       "1595823          True  \n",
       "1595831          True  \n",
       "1595850          True  \n",
       "1595881          True  \n",
       "1595894          True  \n",
       "\n",
       "[101525 rows x 4 columns]"
      ]
     },
     "execution_count": 31,
     "metadata": {},
     "output_type": "execute_result"
    }
   ],
   "source": [
    "df.loc[df[\"milvusUpload\"]==True]"
   ]
  }
 ],
 "metadata": {
  "kernelspec": {
   "display_name": "liang_trello_finder",
   "language": "python",
   "name": "python3"
  },
  "language_info": {
   "codemirror_mode": {
    "name": "ipython",
    "version": 3
   },
   "file_extension": ".py",
   "mimetype": "text/x-python",
   "name": "python",
   "nbconvert_exporter": "python",
   "pygments_lexer": "ipython3",
   "version": "3.11.4"
  },
  "orig_nbformat": 4
 },
 "nbformat": 4,
 "nbformat_minor": 2
}
