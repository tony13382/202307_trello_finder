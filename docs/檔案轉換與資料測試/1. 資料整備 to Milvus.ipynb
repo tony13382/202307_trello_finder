{
 "cells": [
  {
   "cell_type": "code",
   "execution_count": null,
   "metadata": {},
   "outputs": [],
   "source": [
    "# +------------------------------+ #\n",
    "# 資料設定值\n",
    "weight_vector_title = 3\n",
    "weight_vector_content = 1\n",
    "weight_vector_tag = 2\n",
    "weight_vector_tf = 2\n",
    "# 設定 Milvus collection 名稱和維度\n",
    "collection_name = 'trello_finder_v2'\n",
    "# 設定分區名稱\n",
    "partition_name = 'import'\n",
    "# +------------------------------+ #"
   ]
  },
  {
   "cell_type": "code",
   "execution_count": null,
   "metadata": {},
   "outputs": [],
   "source": [
    "# 引入套件\n",
    "import pandas as pd\n",
    "import numpy as np\n",
    "\n",
    "# 讀取 json 檔案包含轉換向量\n",
    "df = pd.read_json(\"../backup/vector_all.json\")"
   ]
  },
  {
   "cell_type": "code",
   "execution_count": null,
   "metadata": {},
   "outputs": [],
   "source": [
    "# Convert 'vector_content', 'vector_title', 'vector_tag', 'vector_tf' to NumPy ndarray\n",
    "def convert_to_np_array(lst):\n",
    "    # 檢查 lst 是否為 None 或為具有值的列表\n",
    "    if lst is None:\n",
    "        return np.zeros(768)\n",
    "    elif isinstance(lst, list):\n",
    "        return np.array(lst)\n",
    "    else:\n",
    "        return np.zeros(768)\n",
    "\n",
    "\n",
    "# 將 'vector_content' 轉換為 NumPy 的 ndarray，若為 None 則轉換為長度 768 的 0 陣列\n",
    "df[\"np_vector_content\"] = df[\"vector_content\"].apply(convert_to_np_array)\n",
    "\n",
    "# 將 'vector_title' 轉換為 NumPy 的 ndarray，若為 None 則轉換為長度 768 的 0 陣列\n",
    "df[\"np_vector_title\"] = df[\"vector_title\"].apply(convert_to_np_array)\n",
    "\n",
    "# 將 'vector_tag' 轉換為 NumPy 的 ndarray，若為 None 則轉換為長度 768 的 0 陣列\n",
    "df[\"np_vector_tag\"] = df[\"vector_tag\"].apply(convert_to_np_array)\n",
    "\n",
    "# 將 'vector_tf' 轉換為 NumPy 的 ndarray，若為 None 則轉換為長度 768 的 0 陣列\n",
    "df[\"np_vector_tf\"] = df[\"vector_tf\"].apply(convert_to_np_array)"
   ]
  },
  {
   "cell_type": "code",
   "execution_count": null,
   "metadata": {},
   "outputs": [],
   "source": [
    "df"
   ]
  },
  {
   "cell_type": "code",
   "execution_count": null,
   "metadata": {},
   "outputs": [],
   "source": [
    "# Define a function to search the vector\n",
    "def search_array(arr_title, arr_content, arr_tag, arr_tf):\n",
    "    if arr_title.sum() == 0:\n",
    "        weight_vector_title = 0\n",
    "    if arr_content.sum() == 0:\n",
    "        weight_vector_content = 0\n",
    "    if arr_tag.sum() == 0:\n",
    "        weight_vector_tag = 0\n",
    "    if arr_tf.sum() == 0:\n",
    "        weight_vector_tf = 0\n",
    "\n",
    "    return (weight_vector_title * arr_title + weight_vector_content * arr_content + weight_vector_tag * arr_tag + weight_vector_tf * arr_tf) / (weight_vector_title + weight_vector_tag + weight_vector_content + weight_vector_tf)\n",
    "\n",
    "\n",
    "# Create a new column \"vector_search\" with default value None\n",
    "df['vector_search'] = None\n",
    "\n",
    "# Define a function to apply the search_array function to each row\n",
    "\n",
    "\n",
    "def apply_search_array(row):\n",
    "    return search_array(row['np_vector_title'], row['np_vector_content'], row['np_vector_tag'], row['np_vector_tf'])\n",
    "\n",
    "\n",
    "# Apply the function to each row and update the \"vector_search\" column\n",
    "df['vector_search'] = df.apply(apply_search_array, axis=1)"
   ]
  },
  {
   "cell_type": "code",
   "execution_count": null,
   "metadata": {},
   "outputs": [],
   "source": [
    "from pymilvus import DataType, FieldSchema, CollectionSchema, Collection, connections\n",
    "# 設定 Milvus 的連線資訊\n",
    "connections.connect(alias=\"default\")\n",
    "milvus_collection = Collection(collection_name)"
   ]
  },
  {
   "cell_type": "code",
   "execution_count": null,
   "metadata": {},
   "outputs": [],
   "source": [
    "errorlist = []"
   ]
  },
  {
   "cell_type": "code",
   "execution_count": null,
   "metadata": {},
   "outputs": [],
   "source": [
    "# 將資料存入 Milvus\n",
    "for idx, row in df.iterrows():\n",
    "    try:\n",
    "\n",
    "        insert_milvus_title = row[\"title\"]\n",
    "        if (len(insert_milvus_title) > 500):\n",
    "            insert_milvus_title = insert_milvus_title[:497] + \"...\"\n",
    "\n",
    "        try:\n",
    "            # 插入 Milvus\n",
    "            status = milvus_collection.insert({\n",
    "                \"id\": str(idx),\n",
    "                \"track_id\": str(idx),\n",
    "                \"value\": row[\"vector_search\"],\n",
    "                \"title\": insert_milvus_title,\n",
    "            }, partition_name=partition_name)\n",
    "\n",
    "            if (status.insert_count != 1):\n",
    "                print(\"Milvus Insert Fail\")\n",
    "                print(status)\n",
    "                errorlist.append(idx)\n",
    "            # else:\n",
    "                # print(\"Done \\n--------\")\n",
    "\n",
    "        except Exception as exp:\n",
    "            print(\"--------------------\")\n",
    "            print(str(idx), \"|\", len(str(idx)))\n",
    "            print(\"Vector |\", len(row[\"vector\"]))\n",
    "            print(insert_milvus_title, \"|\", len(insert_milvus_title))\n",
    "            print(\"--------------------\")\n",
    "            print(\"Milvus Insert Fail\")\n",
    "            print(exp)\n",
    "            errorlist.append(idx)\n",
    "\n",
    "    except Exception as exp:\n",
    "        print(\"Milvus Insert Fail\")\n",
    "        print(exp)\n",
    "        errorlist.append(idx)"
   ]
  },
  {
   "cell_type": "code",
   "execution_count": null,
   "metadata": {},
   "outputs": [],
   "source": [
    "errorlist"
   ]
  },
  {
   "cell_type": "markdown",
   "metadata": {},
   "source": [
    "---\n"
   ]
  },
  {
   "cell_type": "code",
   "execution_count": null,
   "metadata": {},
   "outputs": [],
   "source": [
    "for idx, row in df.iloc[errorlist].iterrows():\n",
    "    print(idx)\n",
    "    insert_milvus_title = row[\"title\"]\n",
    "    if (len(insert_milvus_title) > 75):\n",
    "        insert_milvus_title = insert_milvus_title[:71] + \"...\"\n",
    "    print(len(insert_milvus_title))\n",
    "    print(row[\"title\"])"
   ]
  },
  {
   "cell_type": "code",
   "execution_count": null,
   "metadata": {},
   "outputs": [],
   "source": [
    "expr = 'id in [\"21846\",\"8591\"]'\n",
    "milvus_collection.delete(expr)"
   ]
  }
 ],
 "metadata": {
  "kernelspec": {
   "display_name": "liang_trello_finder",
   "language": "python",
   "name": "python3"
  },
  "language_info": {
   "name": "python",
   "version": "3.9.17"
  },
  "orig_nbformat": 4
 },
 "nbformat": 4,
 "nbformat_minor": 2
}
