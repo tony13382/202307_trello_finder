{
 "cells": [
  {
   "cell_type": "code",
   "execution_count": 1,
   "metadata": {},
   "outputs": [],
   "source": [
    "# 引入套件\n",
    "import pandas as pd\n",
    "import numpy as np"
   ]
  },
  {
   "cell_type": "code",
   "execution_count": 2,
   "metadata": {},
   "outputs": [],
   "source": [
    "import openpyxl\n",
    "df = pd.read_excel(\"../文章原始資料/20240131-AllArticle.xlsx\")"
   ]
  },
  {
   "cell_type": "code",
   "execution_count": 3,
   "metadata": {},
   "outputs": [
    {
     "data": {
      "text/html": [
       "<div>\n",
       "<style scoped>\n",
       "    .dataframe tbody tr th:only-of-type {\n",
       "        vertical-align: middle;\n",
       "    }\n",
       "\n",
       "    .dataframe tbody tr th {\n",
       "        vertical-align: top;\n",
       "    }\n",
       "\n",
       "    .dataframe thead th {\n",
       "        text-align: right;\n",
       "    }\n",
       "</style>\n",
       "<table border=\"1\" class=\"dataframe\">\n",
       "  <thead>\n",
       "    <tr style=\"text-align: right;\">\n",
       "      <th></th>\n",
       "      <th>link_id</th>\n",
       "      <th>title</th>\n",
       "      <th>url</th>\n",
       "      <th>content</th>\n",
       "      <th>form</th>\n",
       "    </tr>\n",
       "  </thead>\n",
       "  <tbody>\n",
       "    <tr>\n",
       "      <th>0</th>\n",
       "      <td>0</td>\n",
       "      <td>種瓜得瓜 AI也略懂略懂</td>\n",
       "      <td>https://highscope.ch.ntu.edu.tw/wordpress/?p=8...</td>\n",
       "      <td>方法 因果關係 大數據與資料探勘 種瓜得瓜 AI也略懂略懂 手寫數字 參考資料 L. Bot...</td>\n",
       "      <td>Highscope_V02</td>\n",
       "    </tr>\n",
       "    <tr>\n",
       "      <th>1</th>\n",
       "      <td>1</td>\n",
       "      <td>眼見不為憑：假新聞攻防戰</td>\n",
       "      <td>https://highscope.ch.ntu.edu.tw/wordpress/?p=8...</td>\n",
       "      <td>參考資料 「剛開始看覺得沒什麼問題，但仔細看之後會覺得不太對，但也說不出奇怪的地方在哪。」這...</td>\n",
       "      <td>Highscope_V02</td>\n",
       "    </tr>\n",
       "    <tr>\n",
       "      <th>2</th>\n",
       "      <td>2</td>\n",
       "      <td>演化，AI的第三條路！(1/2)</td>\n",
       "      <td>https://highscope.ch.ntu.edu.tw/wordpress/?p=8...</td>\n",
       "      <td>電腦程式的演化，是個比數學函數複雜的例子。譬如利用迭代法及記憶方式為蛋白質序列進行分類的電腦...</td>\n",
       "      <td>Highscope_V02</td>\n",
       "    </tr>\n",
       "    <tr>\n",
       "      <th>3</th>\n",
       "      <td>3</td>\n",
       "      <td>理解與預測：科學的兩條路</td>\n",
       "      <td>https://highscope.ch.ntu.edu.tw/wordpress/?p=8...</td>\n",
       "      <td>「教」讓我們能交流所知的因果關係（如果按照這些規則，那麼你就可以完成除法）；「學」則讓我們串...</td>\n",
       "      <td>Highscope_V02</td>\n",
       "    </tr>\n",
       "    <tr>\n",
       "      <th>4</th>\n",
       "      <td>4</td>\n",
       "      <td>別中了社群媒體的圈套(2/2)</td>\n",
       "      <td>https://highscope.ch.ntu.edu.tw/wordpress/?p=8...</td>\n",
       "      <td>我們是否會像酒精跟藥物成癮那樣對手機「成癮」，這問題頗有爭議，不過無論是酒精、藥物還是手機，...</td>\n",
       "      <td>Highscope_V02</td>\n",
       "    </tr>\n",
       "    <tr>\n",
       "      <th>...</th>\n",
       "      <td>...</td>\n",
       "      <td>...</td>\n",
       "      <td>...</td>\n",
       "      <td>...</td>\n",
       "      <td>...</td>\n",
       "    </tr>\n",
       "    <tr>\n",
       "      <th>38656</th>\n",
       "      <td>38656</td>\n",
       "      <td>太空:最終回收目標?</td>\n",
       "      <td>https://pansci.asia/archives/14096</td>\n",
       "      <td>作者：Roger East（Green Futures）對太空計畫而言，回收與再利用概念還很...</td>\n",
       "      <td>Pansci_data</td>\n",
       "    </tr>\n",
       "    <tr>\n",
       "      <th>38657</th>\n",
       "      <td>38657</td>\n",
       "      <td>用App Inventor直接控制樂高EV3機器人：單點控制</td>\n",
       "      <td>https://pansci.asia/archives/75189</td>\n",
       "      <td>文／CAVEDU教育團隊各位讀者，2015 快樂！ CAVEDU的專欄從2012開始連載， ...</td>\n",
       "      <td>Pansci_data</td>\n",
       "    </tr>\n",
       "    <tr>\n",
       "      <th>38658</th>\n",
       "      <td>38658</td>\n",
       "      <td>輕鬆使用Android裝置控制樂高機器人：按鈕控制</td>\n",
       "      <td>https://pansci.asia/archives/12611</td>\n",
       "      <td>文／曾吉弘（CAVE教育團隊http://www.cavedu.com）用手機遙控機器人，聽...</td>\n",
       "      <td>Pansci_data</td>\n",
       "    </tr>\n",
       "    <tr>\n",
       "      <th>38659</th>\n",
       "      <td>38659</td>\n",
       "      <td>這裡不是片場 — 全世界最大的救災實境演練場地「守護者中心」</td>\n",
       "      <td>https://pansci.asia/archives/62191</td>\n",
       "      <td>文 / 陳妤寧Guardian Centers 的模擬救災現場（圖片來源：Guardian ...</td>\n",
       "      <td>Pansci_data</td>\n",
       "    </tr>\n",
       "    <tr>\n",
       "      <th>38660</th>\n",
       "      <td>38660</td>\n",
       "      <td>搞笑諾貝爾獎結果出爐，夜貓子通常自我感覺良好？</td>\n",
       "      <td>https://pansci.asia/archives/67796</td>\n",
       "      <td>第24屆搞笑諾貝爾獎[1]的頒獎典禮，在台灣時間今天早上六點，於哈佛大學的桑德斯劇場舉行，典...</td>\n",
       "      <td>Pansci_data</td>\n",
       "    </tr>\n",
       "  </tbody>\n",
       "</table>\n",
       "<p>38661 rows × 5 columns</p>\n",
       "</div>"
      ],
      "text/plain": [
       "       link_id                           title  \\\n",
       "0            0                    種瓜得瓜 AI也略懂略懂   \n",
       "1            1                    眼見不為憑：假新聞攻防戰   \n",
       "2            2                演化，AI的第三條路！(1/2)   \n",
       "3            3                    理解與預測：科學的兩條路   \n",
       "4            4                 別中了社群媒體的圈套(2/2)   \n",
       "...        ...                             ...   \n",
       "38656    38656                      太空:最終回收目標?   \n",
       "38657    38657  用App Inventor直接控制樂高EV3機器人：單點控制   \n",
       "38658    38658       輕鬆使用Android裝置控制樂高機器人：按鈕控制   \n",
       "38659    38659  這裡不是片場 — 全世界最大的救災實境演練場地「守護者中心」   \n",
       "38660    38660         搞笑諾貝爾獎結果出爐，夜貓子通常自我感覺良好？   \n",
       "\n",
       "                                                     url  \\\n",
       "0      https://highscope.ch.ntu.edu.tw/wordpress/?p=8...   \n",
       "1      https://highscope.ch.ntu.edu.tw/wordpress/?p=8...   \n",
       "2      https://highscope.ch.ntu.edu.tw/wordpress/?p=8...   \n",
       "3      https://highscope.ch.ntu.edu.tw/wordpress/?p=8...   \n",
       "4      https://highscope.ch.ntu.edu.tw/wordpress/?p=8...   \n",
       "...                                                  ...   \n",
       "38656                 https://pansci.asia/archives/14096   \n",
       "38657                 https://pansci.asia/archives/75189   \n",
       "38658                 https://pansci.asia/archives/12611   \n",
       "38659                 https://pansci.asia/archives/62191   \n",
       "38660                 https://pansci.asia/archives/67796   \n",
       "\n",
       "                                                 content           form  \n",
       "0      方法 因果關係 大數據與資料探勘 種瓜得瓜 AI也略懂略懂 手寫數字 參考資料 L. Bot...  Highscope_V02  \n",
       "1      參考資料 「剛開始看覺得沒什麼問題，但仔細看之後會覺得不太對，但也說不出奇怪的地方在哪。」這...  Highscope_V02  \n",
       "2      電腦程式的演化，是個比數學函數複雜的例子。譬如利用迭代法及記憶方式為蛋白質序列進行分類的電腦...  Highscope_V02  \n",
       "3      「教」讓我們能交流所知的因果關係（如果按照這些規則，那麼你就可以完成除法）；「學」則讓我們串...  Highscope_V02  \n",
       "4      我們是否會像酒精跟藥物成癮那樣對手機「成癮」，這問題頗有爭議，不過無論是酒精、藥物還是手機，...  Highscope_V02  \n",
       "...                                                  ...            ...  \n",
       "38656  作者：Roger East（Green Futures）對太空計畫而言，回收與再利用概念還很...    Pansci_data  \n",
       "38657  文／CAVEDU教育團隊各位讀者，2015 快樂！ CAVEDU的專欄從2012開始連載， ...    Pansci_data  \n",
       "38658  文／曾吉弘（CAVE教育團隊http://www.cavedu.com）用手機遙控機器人，聽...    Pansci_data  \n",
       "38659  文 / 陳妤寧Guardian Centers 的模擬救災現場（圖片來源：Guardian ...    Pansci_data  \n",
       "38660  第24屆搞笑諾貝爾獎[1]的頒獎典禮，在台灣時間今天早上六點，於哈佛大學的桑德斯劇場舉行，典...    Pansci_data  \n",
       "\n",
       "[38661 rows x 5 columns]"
      ]
     },
     "execution_count": 3,
     "metadata": {},
     "output_type": "execute_result"
    }
   ],
   "source": [
    "df"
   ]
  },
  {
   "cell_type": "code",
   "execution_count": 4,
   "metadata": {},
   "outputs": [
    {
     "name": "stderr",
     "output_type": "stream",
     "text": [
      "c:\\Users\\vm\\Anaconda3\\envs\\liang_trello_finder\\lib\\site-packages\\tqdm\\auto.py:21: TqdmWarning: IProgress not found. Please update jupyter and ipywidgets. See https://ipywidgets.readthedocs.io/en/stable/user_install.html\n",
      "  from .autonotebook import tqdm as notebook_tqdm\n"
     ]
    },
    {
     "name": "stdout",
     "output_type": "stream",
     "text": [
      "sbert_model loaded\n"
     ]
    }
   ],
   "source": [
    "# Import modules\n",
    "from sentence_transformers import SentenceTransformer, util\n",
    "# Select model by transformer\n",
    "# about model: https://huggingface.co/sentence-transformers/paraphrase-multilingual-mpnet-base-v2\n",
    "sbert_model = SentenceTransformer('paraphrase-multilingual-mpnet-base-v2')\n",
    "print('sbert_model loaded')\n",
    "\n",
    "\n",
    "def embedding_sentence(sentence):\n",
    "    try:\n",
    "        return {\n",
    "            \"state\": True,\n",
    "            # return a vector list\n",
    "            \"value\": sbert_model.encode(sentence).tolist(),\n",
    "        }\n",
    "    except Exception as exp:\n",
    "        return {\n",
    "            \"state\": False,\n",
    "            \"value\": np.zeros(768)\n",
    "        }"
   ]
  },
  {
   "cell_type": "code",
   "execution_count": 5,
   "metadata": {},
   "outputs": [],
   "source": [
    "# 假设你的DataFrame为df\n",
    "df['vector_title'] = df['title'].apply(\n",
    "    lambda x: embedding_sentence(x)['value'])"
   ]
  },
  {
   "cell_type": "code",
   "execution_count": 6,
   "metadata": {},
   "outputs": [],
   "source": [
    "df['vector_content'] = df['content'].apply(\n",
    "    lambda x: embedding_sentence(x)['value'])"
   ]
  },
  {
   "cell_type": "code",
   "execution_count": 7,
   "metadata": {},
   "outputs": [],
   "source": [
    "df.to_json(\"../backup/20240131-AllArticle_vec.json\")"
   ]
  },
  {
   "cell_type": "code",
   "execution_count": 30,
   "metadata": {},
   "outputs": [],
   "source": [
    "df.to_json(\"pansci_vec.json\")"
   ]
  }
 ],
 "metadata": {
  "kernelspec": {
   "display_name": "Python 3",
   "language": "python",
   "name": "python3"
  },
  "language_info": {
   "codemirror_mode": {
    "name": "ipython",
    "version": 3
   },
   "file_extension": ".py",
   "mimetype": "text/x-python",
   "name": "python",
   "nbconvert_exporter": "python",
   "pygments_lexer": "ipython3",
   "version": "3.9.17"
  }
 },
 "nbformat": 4,
 "nbformat_minor": 2
}
