{
 "cells": [
  {
   "cell_type": "code",
   "execution_count": 8,
   "metadata": {},
   "outputs": [],
   "source": [
    "# 引入套件\n",
    "import pandas as pd\n",
    "import numpy as np"
   ]
  },
  {
   "cell_type": "code",
   "execution_count": null,
   "metadata": {},
   "outputs": [],
   "source": [
    "import openpyxl\n",
    "df = pd.read_excel(\"../文章原始資料/0926_new.xlsx\")"
   ]
  },
  {
   "cell_type": "code",
   "execution_count": 10,
   "metadata": {},
   "outputs": [
    {
     "data": {
      "text/html": [
       "<div>\n",
       "<style scoped>\n",
       "    .dataframe tbody tr th:only-of-type {\n",
       "        vertical-align: middle;\n",
       "    }\n",
       "\n",
       "    .dataframe tbody tr th {\n",
       "        vertical-align: top;\n",
       "    }\n",
       "\n",
       "    .dataframe thead th {\n",
       "        text-align: right;\n",
       "    }\n",
       "</style>\n",
       "<table border=\"1\" class=\"dataframe\">\n",
       "  <thead>\n",
       "    <tr style=\"text-align: right;\">\n",
       "      <th></th>\n",
       "      <th>title</th>\n",
       "      <th>tag</th>\n",
       "      <th>content</th>\n",
       "      <th>url</th>\n",
       "    </tr>\n",
       "  </thead>\n",
       "  <tbody>\n",
       "    <tr>\n",
       "      <th>0</th>\n",
       "      <td>在狂牛症之後，英國如何從食安危機裡覺醒？</td>\n",
       "      <td>社會群體 醫療健康 科學傳播 文明足跡 環境生態</td>\n",
       "      <td>面對食安危機，政府的應對措施竟是舉辦烹飪比賽，或是讓高官在鏡頭前大啖美食。這不是台灣，而是被...</td>\n",
       "      <td>https://pansci.asia/archives/98560</td>\n",
       "    </tr>\n",
       "    <tr>\n",
       "      <th>1</th>\n",
       "      <td>歐洲酸沼特產，木乃伊「圖論男子」的那時此刻——《木乃伊不容易》</td>\n",
       "      <td>環境生態 自然生態 好書搶先看 植物王國 化學物語 人體解析 生命奧祕 活得科學 文明足跡 ...</td>\n",
       "      <td>作者／李衍蒨「圖論男子」木乃伊檔案發現地點：丹麥數目：1 具發現過程：於沼澤範圍被找到特點：...</td>\n",
       "      <td>https://pansci.asia/archives/170550</td>\n",
       "    </tr>\n",
       "    <tr>\n",
       "      <th>2</th>\n",
       "      <td>「抗體檢驗」是什麼？面臨那些限制？偽陽性、抽樣與群體免疫</td>\n",
       "      <td>來自台灣 活得科學 醫療健康 社會群體</td>\n",
       "      <td>抗體檢驗是什麼？人體感染病原體後一段時間，免疫系統會製作針對病原體的抗體，即使痊癒後，抗體仍...</td>\n",
       "      <td>https://pansci.asia/archives/189659</td>\n",
       "    </tr>\n",
       "    <tr>\n",
       "      <th>3</th>\n",
       "      <td>在布達佩斯沿著多瑙河畔，來一趟數學朝聖之旅吧！</td>\n",
       "      <td>數學妙用 文明足跡</td>\n",
       "      <td>文／陳宏賓 │ UniMath 主編、逢甲大學應用數學系助理教授。多瑙河夜景：前方為伊莉莎白...</td>\n",
       "      <td>https://pansci.asia/archives/138379</td>\n",
       "    </tr>\n",
       "    <tr>\n",
       "      <th>4</th>\n",
       "      <td>2500年的木乃伊重見天日：少年米尼爾迪斯</td>\n",
       "      <td>文明足跡 科學傳播 透視科學 泛科授權 1.0 泛科授權 2.0 生命奧祕</td>\n",
       "      <td>米尼爾迪斯和他的陪葬面具。Photograph: Charles Rex Arbogast/...</td>\n",
       "      <td>https://pansci.asia/archives/72532</td>\n",
       "    </tr>\n",
       "    <tr>\n",
       "      <th>...</th>\n",
       "      <td>...</td>\n",
       "      <td>...</td>\n",
       "      <td>...</td>\n",
       "      <td>...</td>\n",
       "    </tr>\n",
       "    <tr>\n",
       "      <th>9812</th>\n",
       "      <td>太空:最終回收目標?</td>\n",
       "      <td>科技能源</td>\n",
       "      <td>作者：Roger East（Green Futures）對太空計畫而言，回收與再利用概念還很...</td>\n",
       "      <td>https://pansci.asia/archives/14096</td>\n",
       "    </tr>\n",
       "    <tr>\n",
       "      <th>9813</th>\n",
       "      <td>用App Inventor直接控制樂高EV3機器人：單點控制</td>\n",
       "      <td>科技能源</td>\n",
       "      <td>文／CAVEDU教育團隊各位讀者，2015 快樂！ CAVEDU的專欄從2012開始連載， ...</td>\n",
       "      <td>https://pansci.asia/archives/75189</td>\n",
       "    </tr>\n",
       "    <tr>\n",
       "      <th>9814</th>\n",
       "      <td>輕鬆使用Android裝置控制樂高機器人：按鈕控制</td>\n",
       "      <td>科技能源</td>\n",
       "      <td>文／曾吉弘（CAVE教育團隊http://www.cavedu.com）用手機遙控機器人，聽...</td>\n",
       "      <td>https://pansci.asia/archives/12611</td>\n",
       "    </tr>\n",
       "    <tr>\n",
       "      <th>9815</th>\n",
       "      <td>這裡不是片場 — 全世界最大的救災實境演練場地「守護者中心」</td>\n",
       "      <td>活得科學</td>\n",
       "      <td>文 / 陳妤寧Guardian Centers 的模擬救災現場（圖片來源：Guardian ...</td>\n",
       "      <td>https://pansci.asia/archives/62191</td>\n",
       "    </tr>\n",
       "    <tr>\n",
       "      <th>9816</th>\n",
       "      <td>搞笑諾貝爾獎結果出爐，夜貓子通常自我感覺良好？</td>\n",
       "      <td>專欄 活得科學</td>\n",
       "      <td>第24屆搞笑諾貝爾獎[1]的頒獎典禮，在台灣時間今天早上六點，於哈佛大學的桑德斯劇場舉行，典...</td>\n",
       "      <td>https://pansci.asia/archives/67796</td>\n",
       "    </tr>\n",
       "  </tbody>\n",
       "</table>\n",
       "<p>9817 rows × 4 columns</p>\n",
       "</div>"
      ],
      "text/plain": [
       "                                title  \\\n",
       "0                在狂牛症之後，英國如何從食安危機裡覺醒？   \n",
       "1     歐洲酸沼特產，木乃伊「圖論男子」的那時此刻——《木乃伊不容易》   \n",
       "2        「抗體檢驗」是什麼？面臨那些限制？偽陽性、抽樣與群體免疫   \n",
       "3             在布達佩斯沿著多瑙河畔，來一趟數學朝聖之旅吧！   \n",
       "4               2500年的木乃伊重見天日：少年米尼爾迪斯   \n",
       "...                               ...   \n",
       "9812                       太空:最終回收目標?   \n",
       "9813   用App Inventor直接控制樂高EV3機器人：單點控制   \n",
       "9814        輕鬆使用Android裝置控制樂高機器人：按鈕控制   \n",
       "9815   這裡不是片場 — 全世界最大的救災實境演練場地「守護者中心」   \n",
       "9816          搞笑諾貝爾獎結果出爐，夜貓子通常自我感覺良好？   \n",
       "\n",
       "                                                    tag  \\\n",
       "0                              社會群體 醫療健康 科學傳播 文明足跡 環境生態   \n",
       "1     環境生態 自然生態 好書搶先看 植物王國 化學物語 人體解析 生命奧祕 活得科學 文明足跡 ...   \n",
       "2                                   來自台灣 活得科學 醫療健康 社會群體   \n",
       "3                                             數學妙用 文明足跡   \n",
       "4                 文明足跡 科學傳播 透視科學 泛科授權 1.0 泛科授權 2.0 生命奧祕   \n",
       "...                                                 ...   \n",
       "9812                                               科技能源   \n",
       "9813                                               科技能源   \n",
       "9814                                               科技能源   \n",
       "9815                                               活得科學   \n",
       "9816                                            專欄 活得科學   \n",
       "\n",
       "                                                content  \\\n",
       "0     面對食安危機，政府的應對措施竟是舉辦烹飪比賽，或是讓高官在鏡頭前大啖美食。這不是台灣，而是被...   \n",
       "1     作者／李衍蒨「圖論男子」木乃伊檔案發現地點：丹麥數目：1 具發現過程：於沼澤範圍被找到特點：...   \n",
       "2     抗體檢驗是什麼？人體感染病原體後一段時間，免疫系統會製作針對病原體的抗體，即使痊癒後，抗體仍...   \n",
       "3     文／陳宏賓 │ UniMath 主編、逢甲大學應用數學系助理教授。多瑙河夜景：前方為伊莉莎白...   \n",
       "4     米尼爾迪斯和他的陪葬面具。Photograph: Charles Rex Arbogast/...   \n",
       "...                                                 ...   \n",
       "9812  作者：Roger East（Green Futures）對太空計畫而言，回收與再利用概念還很...   \n",
       "9813  文／CAVEDU教育團隊各位讀者，2015 快樂！ CAVEDU的專欄從2012開始連載， ...   \n",
       "9814  文／曾吉弘（CAVE教育團隊http://www.cavedu.com）用手機遙控機器人，聽...   \n",
       "9815  文 / 陳妤寧Guardian Centers 的模擬救災現場（圖片來源：Guardian ...   \n",
       "9816  第24屆搞笑諾貝爾獎[1]的頒獎典禮，在台灣時間今天早上六點，於哈佛大學的桑德斯劇場舉行，典...   \n",
       "\n",
       "                                      url  \n",
       "0      https://pansci.asia/archives/98560  \n",
       "1     https://pansci.asia/archives/170550  \n",
       "2     https://pansci.asia/archives/189659  \n",
       "3     https://pansci.asia/archives/138379  \n",
       "4      https://pansci.asia/archives/72532  \n",
       "...                                   ...  \n",
       "9812   https://pansci.asia/archives/14096  \n",
       "9813   https://pansci.asia/archives/75189  \n",
       "9814   https://pansci.asia/archives/12611  \n",
       "9815   https://pansci.asia/archives/62191  \n",
       "9816   https://pansci.asia/archives/67796  \n",
       "\n",
       "[9817 rows x 4 columns]"
      ]
     },
     "execution_count": 10,
     "metadata": {},
     "output_type": "execute_result"
    }
   ],
   "source": [
    "df"
   ]
  },
  {
   "cell_type": "code",
   "execution_count": 11,
   "metadata": {},
   "outputs": [
    {
     "name": "stderr",
     "output_type": "stream",
     "text": [
      "c:\\Users\\trello\\AppData\\Local\\Programs\\Python\\Python311\\Lib\\site-packages\\tqdm\\auto.py:21: TqdmWarning: IProgress not found. Please update jupyter and ipywidgets. See https://ipywidgets.readthedocs.io/en/stable/user_install.html\n",
      "  from .autonotebook import tqdm as notebook_tqdm\n"
     ]
    },
    {
     "name": "stdout",
     "output_type": "stream",
     "text": [
      "sbert_model loaded\n"
     ]
    }
   ],
   "source": [
    "# Import modules\n",
    "from sentence_transformers import SentenceTransformer, util\n",
    "# Select model by transformer\n",
    "# about model: https://huggingface.co/sentence-transformers/paraphrase-multilingual-mpnet-base-v2\n",
    "sbert_model = SentenceTransformer('paraphrase-multilingual-mpnet-base-v2')\n",
    "print('sbert_model loaded')\n",
    "def embedding_sentence(sentence):\n",
    "    try:\n",
    "        return {\n",
    "            \"state\" : True,\n",
    "            \"value\" : sbert_model.encode(sentence).tolist(), # return a vector list\n",
    "        }\n",
    "    except Exception as exp:\n",
    "        return {\n",
    "            \"state\" : False,\n",
    "            \"value\" : np.zeros(768)\n",
    "        }\n"
   ]
  },
  {
   "cell_type": "code",
   "execution_count": 13,
   "metadata": {},
   "outputs": [],
   "source": [
    "# 假设你的DataFrame为df\n",
    "df['vector_title'] = df['title'].apply(lambda x: embedding_sentence(x)['value'])"
   ]
  },
  {
   "cell_type": "code",
   "execution_count": 14,
   "metadata": {},
   "outputs": [],
   "source": [
    "df['vector_content'] = df['content'].apply(lambda x: embedding_sentence(x)['value'])"
   ]
  },
  {
   "cell_type": "code",
   "execution_count": 15,
   "metadata": {},
   "outputs": [],
   "source": [
    "df.to_json(\"../backup/pansci_vec.json\")"
   ]
  },
  {
   "cell_type": "code",
   "execution_count": 30,
   "metadata": {},
   "outputs": [],
   "source": [
    "df.to_json(\"pansci_vec.json\")"
   ]
  }
 ],
 "metadata": {
  "kernelspec": {
   "display_name": "Python 3",
   "language": "python",
   "name": "python3"
  },
  "language_info": {
   "codemirror_mode": {
    "name": "ipython",
    "version": 3
   },
   "file_extension": ".py",
   "mimetype": "text/x-python",
   "name": "python",
   "nbconvert_exporter": "python",
   "pygments_lexer": "ipython3",
   "version": "3.11.5"
  }
 },
 "nbformat": 4,
 "nbformat_minor": 2
}
