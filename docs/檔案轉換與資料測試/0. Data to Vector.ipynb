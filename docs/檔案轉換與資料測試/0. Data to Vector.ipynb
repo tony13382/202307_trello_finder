{
 "cells": [
  {
   "cell_type": "code",
   "execution_count": 8,
   "metadata": {},
   "outputs": [],
   "source": [
    "# 引入套件\n",
    "import pandas as pd\n",
    "import numpy as np"
   ]
  },
  {
   "cell_type": "code",
   "execution_count": null,
   "metadata": {},
   "outputs": [],
   "source": [
    "import openpyxl\n",
    "df = pd.read_excel(\"../文章原始資料/0926_new.xlsx\")"
   ]
  },
  {
   "cell_type": "code",
   "execution_count": 17,
   "metadata": {},
   "outputs": [],
   "source": [
    "df = pd.read_csv(\"../文章原始資料/Scitechvista.csv\")"
   ]
  },
  {
   "cell_type": "code",
   "execution_count": 18,
   "metadata": {},
   "outputs": [
    {
     "data": {
      "text/html": [
       "<div>\n",
       "<style scoped>\n",
       "    .dataframe tbody tr th:only-of-type {\n",
       "        vertical-align: middle;\n",
       "    }\n",
       "\n",
       "    .dataframe tbody tr th {\n",
       "        vertical-align: top;\n",
       "    }\n",
       "\n",
       "    .dataframe thead th {\n",
       "        text-align: right;\n",
       "    }\n",
       "</style>\n",
       "<table border=\"1\" class=\"dataframe\">\n",
       "  <thead>\n",
       "    <tr style=\"text-align: right;\">\n",
       "      <th></th>\n",
       "      <th>title</th>\n",
       "      <th>tag</th>\n",
       "      <th>content</th>\n",
       "      <th>url</th>\n",
       "    </tr>\n",
       "  </thead>\n",
       "  <tbody>\n",
       "    <tr>\n",
       "      <th>0</th>\n",
       "      <td>OK繃、便利貼超方便，都是感壓膠的功勞！</td>\n",
       "      <td>橡膠(5) 便利貼(3) 黏著力(4)</td>\n",
       "      <td>除了前述的Dahlquist準則外，玻璃轉變溫度必須在適當範圍。研究人員在1986年提出「感...</td>\n",
       "      <td>https://scitechvista.nat.gov.tw/Article/C00000...</td>\n",
       "    </tr>\n",
       "    <tr>\n",
       "      <th>1</th>\n",
       "      <td>共生質療法</td>\n",
       "      <td>益生菌(18) 敗血症(2) 安慰劑(8) 新生兒(2) 雙盲實驗(1)</td>\n",
       "      <td>實驗採雙盲模式進行，實驗組與對照組各有2,278名新生兒。孩子出生後4天內開始餵食共生質或安...</td>\n",
       "      <td>https://scitechvista.nat.gov.tw/Article/C00000...</td>\n",
       "    </tr>\n",
       "    <tr>\n",
       "      <th>2</th>\n",
       "      <td>複合材料的創新與利用</td>\n",
       "      <td>複合材料(6)</td>\n",
       "      <td>複合材料可依其內含物的幾何形狀分為：顆粒型、纖維型、層狀複合材料，當然也可以是不同內含物的組...</td>\n",
       "      <td>https://scitechvista.nat.gov.tw/Article/C00000...</td>\n",
       "    </tr>\n",
       "    <tr>\n",
       "      <th>3</th>\n",
       "      <td>能自動分解的塑膠–可降解塑膠</td>\n",
       "      <td>熱固塑膠(2)</td>\n",
       "      <td>塑膠是一種大家熟悉的材料，顧名思義，它是在一定溫度和壓力下，可以塑製成形的一種合成高分子材料...</td>\n",
       "      <td>https://scitechvista.nat.gov.tw/Article/C00000...</td>\n",
       "    </tr>\n",
       "    <tr>\n",
       "      <th>4</th>\n",
       "      <td>仿生蝙蝠（四）：回聲和壓力感應的導盲帽</td>\n",
       "      <td>回聲定位(2) 蝙蝠(16)</td>\n",
       "      <td>責任編輯：歐陽盛芝／國立臺灣博物館 （以上新聞編譯自2015年9月11日發行之Interna...</td>\n",
       "      <td>https://scitechvista.nat.gov.tw/Article/C00000...</td>\n",
       "    </tr>\n",
       "    <tr>\n",
       "      <th>...</th>\n",
       "      <td>...</td>\n",
       "      <td>...</td>\n",
       "      <td>...</td>\n",
       "      <td>...</td>\n",
       "    </tr>\n",
       "    <tr>\n",
       "      <th>5755</th>\n",
       "      <td>走調的粉彩青春派對（二）：塵爆自救要訣及傷患分類</td>\n",
       "      <td>植皮(1)</td>\n",
       "      <td>八仙樂園塵爆事故是921大地震迄今臺灣受傷人數最多的災難，傷者多為二度以上臉部及肢體燒傷。事...</td>\n",
       "      <td>https://scitechvista.nat.gov.tw/Article/C00000...</td>\n",
       "    </tr>\n",
       "    <tr>\n",
       "      <th>5756</th>\n",
       "      <td>團結力量大</td>\n",
       "      <td>腦瘤(4)</td>\n",
       "      <td>腦瘤病人中，4成以上是神經膠瘤，而大部分神經膠瘤是惡性的。這種腦瘤禁得住放射線療法，又能侵入...</td>\n",
       "      <td>https://scitechvista.nat.gov.tw/Article/C00000...</td>\n",
       "    </tr>\n",
       "    <tr>\n",
       "      <th>5757</th>\n",
       "      <td>失智病患照顧者的「保護因子」</td>\n",
       "      <td>失智症(20)</td>\n",
       "      <td>近年來失智症（dementia）已成為席捲全球的疾病，根據國際衛生組織（WHO）及國際失智症...</td>\n",
       "      <td>https://scitechvista.nat.gov.tw/Article/C00000...</td>\n",
       "    </tr>\n",
       "    <tr>\n",
       "      <th>5758</th>\n",
       "      <td>拒絕無腦賭博！怎麼用賠率算出贏的機率？</td>\n",
       "      <td>機率論(2)</td>\n",
       "      <td>每逢重大的運動競賽，常會聽到賠率一詞。網路上也經常有人在問賠率的意義。賠率與機率關係密切，利...</td>\n",
       "      <td>https://scitechvista.nat.gov.tw/Article/C00000...</td>\n",
       "    </tr>\n",
       "    <tr>\n",
       "      <th>5759</th>\n",
       "      <td>無線感測網路技術：無線感測器網路平台及應用</td>\n",
       "      <td>無線感測(7)</td>\n",
       "      <td>隨著科技日新月異，無線通訊已取代過去有線的溝通方式，成為生活中不可或缺的一部分。無論何時，只...</td>\n",
       "      <td>https://scitechvista.nat.gov.tw/Article/C00000...</td>\n",
       "    </tr>\n",
       "  </tbody>\n",
       "</table>\n",
       "<p>5760 rows × 4 columns</p>\n",
       "</div>"
      ],
      "text/plain": [
       "                         title                                   tag  \\\n",
       "0         OK繃、便利貼超方便，都是感壓膠的功勞！                   橡膠(5) 便利貼(3) 黏著力(4)   \n",
       "1                        共生質療法  益生菌(18) 敗血症(2) 安慰劑(8) 新生兒(2) 雙盲實驗(1)   \n",
       "2                   複合材料的創新與利用                               複合材料(6)   \n",
       "3               能自動分解的塑膠–可降解塑膠                               熱固塑膠(2)   \n",
       "4          仿生蝙蝠（四）：回聲和壓力感應的導盲帽                        回聲定位(2) 蝙蝠(16)   \n",
       "...                        ...                                   ...   \n",
       "5755  走調的粉彩青春派對（二）：塵爆自救要訣及傷患分類                                 植皮(1)   \n",
       "5756                     團結力量大                                 腦瘤(4)   \n",
       "5757            失智病患照顧者的「保護因子」                               失智症(20)   \n",
       "5758       拒絕無腦賭博！怎麼用賠率算出贏的機率？                                機率論(2)   \n",
       "5759     無線感測網路技術：無線感測器網路平台及應用                               無線感測(7)   \n",
       "\n",
       "                                                content  \\\n",
       "0     除了前述的Dahlquist準則外，玻璃轉變溫度必須在適當範圍。研究人員在1986年提出「感...   \n",
       "1     實驗採雙盲模式進行，實驗組與對照組各有2,278名新生兒。孩子出生後4天內開始餵食共生質或安...   \n",
       "2     複合材料可依其內含物的幾何形狀分為：顆粒型、纖維型、層狀複合材料，當然也可以是不同內含物的組...   \n",
       "3     塑膠是一種大家熟悉的材料，顧名思義，它是在一定溫度和壓力下，可以塑製成形的一種合成高分子材料...   \n",
       "4     責任編輯：歐陽盛芝／國立臺灣博物館 （以上新聞編譯自2015年9月11日發行之Interna...   \n",
       "...                                                 ...   \n",
       "5755  八仙樂園塵爆事故是921大地震迄今臺灣受傷人數最多的災難，傷者多為二度以上臉部及肢體燒傷。事...   \n",
       "5756  腦瘤病人中，4成以上是神經膠瘤，而大部分神經膠瘤是惡性的。這種腦瘤禁得住放射線療法，又能侵入...   \n",
       "5757  近年來失智症（dementia）已成為席捲全球的疾病，根據國際衛生組織（WHO）及國際失智症...   \n",
       "5758  每逢重大的運動競賽，常會聽到賠率一詞。網路上也經常有人在問賠率的意義。賠率與機率關係密切，利...   \n",
       "5759  隨著科技日新月異，無線通訊已取代過去有線的溝通方式，成為生活中不可或缺的一部分。無論何時，只...   \n",
       "\n",
       "                                                    url  \n",
       "0     https://scitechvista.nat.gov.tw/Article/C00000...  \n",
       "1     https://scitechvista.nat.gov.tw/Article/C00000...  \n",
       "2     https://scitechvista.nat.gov.tw/Article/C00000...  \n",
       "3     https://scitechvista.nat.gov.tw/Article/C00000...  \n",
       "4     https://scitechvista.nat.gov.tw/Article/C00000...  \n",
       "...                                                 ...  \n",
       "5755  https://scitechvista.nat.gov.tw/Article/C00000...  \n",
       "5756  https://scitechvista.nat.gov.tw/Article/C00000...  \n",
       "5757  https://scitechvista.nat.gov.tw/Article/C00000...  \n",
       "5758  https://scitechvista.nat.gov.tw/Article/C00000...  \n",
       "5759  https://scitechvista.nat.gov.tw/Article/C00000...  \n",
       "\n",
       "[5760 rows x 4 columns]"
      ]
     },
     "execution_count": 18,
     "metadata": {},
     "output_type": "execute_result"
    }
   ],
   "source": [
    "df"
   ]
  },
  {
   "cell_type": "code",
   "execution_count": 6,
   "metadata": {},
   "outputs": [
    {
     "name": "stdout",
     "output_type": "stream",
     "text": [
      "sbert_model loaded\n"
     ]
    }
   ],
   "source": [
    "# Import modules\n",
    "from sentence_transformers import SentenceTransformer, util\n",
    "# Select model by transformer\n",
    "# about model: https://huggingface.co/sentence-transformers/paraphrase-multilingual-mpnet-base-v2\n",
    "sbert_model = SentenceTransformer('paraphrase-multilingual-mpnet-base-v2')\n",
    "print('sbert_model loaded')\n"
   ]
  },
  {
   "cell_type": "code",
   "execution_count": 9,
   "metadata": {},
   "outputs": [],
   "source": [
    "def embedding_sentence(sentence):\n",
    "    try:\n",
    "        return {\n",
    "            \"state\" : True,\n",
    "            \"value\" : sbert_model.encode(sentence).tolist(), # return a vector list\n",
    "        }\n",
    "    except Exception as exp:\n",
    "        return {\n",
    "            \"state\" : False,\n",
    "            \"value\" : np.zeros(768)\n",
    "        }\n"
   ]
  },
  {
   "cell_type": "code",
   "execution_count": 19,
   "metadata": {},
   "outputs": [],
   "source": [
    "# 假设你的DataFrame为df\n",
    "df['vector_title'] = df['title'].apply(lambda x: embedding_sentence(x)['value'])"
   ]
  },
  {
   "cell_type": "code",
   "execution_count": 20,
   "metadata": {},
   "outputs": [],
   "source": [
    "df['vector_tag'] = df['tag'].apply(lambda x: embedding_sentence(x)['value'])"
   ]
  },
  {
   "cell_type": "code",
   "execution_count": 21,
   "metadata": {},
   "outputs": [],
   "source": [
    "df['vector_content'] = df['content'].apply(lambda x: embedding_sentence(x)['value'])"
   ]
  },
  {
   "cell_type": "code",
   "execution_count": 31,
   "metadata": {},
   "outputs": [],
   "source": [
    "df.to_json(\"../backup/pansci_vec.json\")"
   ]
  },
  {
   "cell_type": "code",
   "execution_count": 32,
   "metadata": {},
   "outputs": [],
   "source": [
    "import numpy as np\n",
    "\n",
    "def convert_to_np_array(lst):\n",
    "    # 檢查 lst 是否為 None 或為具有值的列表\n",
    "    if lst is None:\n",
    "        return np.zeros(768)\n",
    "    elif isinstance(lst, list):\n",
    "        return np.array(lst)\n",
    "    else:\n",
    "        return np.zeros(768)\n",
    "\n",
    "\n",
    "#####################\n",
    "# Request Variables\n",
    "# -------------------\n",
    "# set : list of dict\n",
    "#   - weight : float\n",
    "#   - array : np.array\n",
    "# len_array : int (length of array)\n",
    "#####################\n",
    "import numpy as np\n",
    "\n",
    "def calc_array_mean(input_set, len_array):\n",
    "    # Define weight that needs to sum\n",
    "    sum_weight = 0\n",
    "    # Define sum_array to sum all arrays\n",
    "    sum_array = np.zeros(len_array)\n",
    "    for item in input_set:\n",
    "        item['array'] = np.array(item['array'])  # Convert to NumPy array\n",
    "        # Check if the array is empty\n",
    "        if item['array'].sum() == 0:\n",
    "            # Don't calculate this weight\n",
    "            sum_weight += 0\n",
    "        else:\n",
    "            # Calculate this weight\n",
    "            sum_weight += item['weight']\n",
    "            # Add to sum_array\n",
    "            sum_array += item['array'] * item['weight']\n",
    "\n",
    "    return sum_array / sum_weight\n"
   ]
  },
  {
   "cell_type": "code",
   "execution_count": 33,
   "metadata": {},
   "outputs": [],
   "source": [
    "# 定义计算平均值的函数\n",
    "def calc_array_mean(row):\n",
    "    weights = [3, 1, 1]  # 根据你的要求定义权重\n",
    "    vectors = [np.array(row['vector_title']), np.array(row['vector_tag']), np.array(row['vector_content'])]\n",
    "    \n",
    "    sum_weight = sum(weights)\n",
    "    weighted_sum = sum(w * v for w, v in zip(weights, vectors))\n",
    "    \n",
    "    return weighted_sum / sum_weight\n",
    "\n",
    "# 计算新列\"vector\"的值\n",
    "df['vector'] = df.apply(calc_array_mean, axis=1)"
   ]
  },
  {
   "cell_type": "code",
   "execution_count": 30,
   "metadata": {},
   "outputs": [],
   "source": [
    "df.to_json(\"pansci_vec.json\")"
   ]
  }
 ],
 "metadata": {
  "kernelspec": {
   "display_name": "Python 3",
   "language": "python",
   "name": "python3"
  },
  "language_info": {
   "codemirror_mode": {
    "name": "ipython",
    "version": 3
   },
   "file_extension": ".py",
   "mimetype": "text/x-python",
   "name": "python",
   "nbconvert_exporter": "python",
   "pygments_lexer": "ipython3",
   "version": "3.11.5"
  }
 },
 "nbformat": 4,
 "nbformat_minor": 2
}
