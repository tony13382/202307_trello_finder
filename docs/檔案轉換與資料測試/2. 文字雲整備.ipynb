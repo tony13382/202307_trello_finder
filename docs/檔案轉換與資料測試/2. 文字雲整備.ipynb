{
 "cells": [
  {
   "cell_type": "code",
   "execution_count": null,
   "metadata": {},
   "outputs": [],
   "source": [
    "# 引入套件\n",
    "import pandas as pd\n",
    "import openpyxl\n",
    "import matplotlib.pyplot as plt\n",
    "from wordcloud import WordCloud\n",
    "import jieba"
   ]
  },
  {
   "cell_type": "code",
   "execution_count": null,
   "metadata": {},
   "outputs": [],
   "source": [
    "# Load the DataFrame from JSON\n",
    "df = pd.read_json(\"../backup/vector_all.json\")\n",
    "print(\"Load DataFrame from JSON Done\")\n",
    "\n",
    "# Load Chinese stop words\n",
    "# Function to load stop words from the file\n",
    "\n",
    "\n",
    "def load_stopwords(file_path):\n",
    "    with open(file_path, \"r\", encoding=\"utf-8\") as file:\n",
    "        stopwords = set(file.read().split())\n",
    "    return stopwords\n",
    "\n",
    "\n",
    "stopwords_file = \"../../setting/stopwords_chinese.txt\"\n",
    "stopwords = load_stopwords(stopwords_file)\n",
    "print(\"Load Chinese stop words Done\")"
   ]
  },
  {
   "cell_type": "code",
   "execution_count": null,
   "metadata": {},
   "outputs": [],
   "source": [
    "# Generate a word cloud image\n",
    "chinese_font_path = \"../../static/others/jf-openhuninn-2.0.ttf\"\n",
    "\n",
    "\n",
    "def create_word_cloud(index, string):\n",
    "    wordcloud = WordCloud(\n",
    "        background_color=\"white\",\n",
    "        width=600,\n",
    "        height=400,\n",
    "        margin=2,\n",
    "        font_path=chinese_font_path,\n",
    "        prefer_horizontal=1,\n",
    "        colormap=\"Set2\",\n",
    "        stopwords=stopwords,  # Pass the loaded stop words\n",
    "    ).generate(string)\n",
    "    plt.imshow(wordcloud, interpolation=\"bilinear\")\n",
    "    plt.axis(\"off\")\n",
    "\n",
    "    save_path = f\"images/{index}.png\"\n",
    "    plt.savefig(save_path, dpi=300, bbox_inches='tight')\n",
    "    plt.clf()\n",
    "    print(f\"Create word cloud for {index} Done\")\n",
    "\n",
    "# Function to tokenize and remove stop words\n",
    "\n",
    "\n",
    "def tokenize_and_remove_stopwords(string):\n",
    "    words = jieba.cut(string)\n",
    "    return \" \".join(w for w in words if w not in stopwords)\n",
    "\n",
    "\n",
    "print(\"Start to tokenize and remove stop words\")"
   ]
  }
 ],
 "metadata": {
  "language_info": {
   "name": "python"
  },
  "orig_nbformat": 4
 },
 "nbformat": 4,
 "nbformat_minor": 2
}
